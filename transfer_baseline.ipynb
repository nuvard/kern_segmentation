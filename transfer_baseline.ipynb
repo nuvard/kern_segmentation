{
  "nbformat": 4,
  "nbformat_minor": 0,
  "metadata": {
    "colab": {
      "name": "transfer-baseline.ipynb",
      "provenance": [],
      "toc_visible": true,
      "include_colab_link": true
    },
    "kernelspec": {
      "name": "python3",
      "display_name": "Python 3"
    },
    "accelerator": "GPU"
  },
  "cells": [
    {
      "cell_type": "markdown",
      "metadata": {
        "id": "view-in-github",
        "colab_type": "text"
      },
      "source": [
        "<a href=\"https://colab.research.google.com/github/nuvard/kern_segmentation/blob/master/transfer_baseline.ipynb\" target=\"_parent\"><img src=\"https://colab.research.google.com/assets/colab-badge.svg\" alt=\"Open In Colab\"/></a>"
      ]
    },
    {
      "cell_type": "markdown",
      "metadata": {
        "id": "uia3Rm8688oM",
        "colab_type": "text"
      },
      "source": [
        "#Baseline for transfer-learning"
      ]
    },
    {
      "cell_type": "markdown",
      "metadata": {
        "id": "bBpREBEg9BQQ",
        "colab_type": "text"
      },
      "source": [
        "##Подготовка данных"
      ]
    },
    {
      "cell_type": "code",
      "metadata": {
        "id": "bpq90aAAmeKt",
        "colab_type": "code",
        "colab": {}
      },
      "source": [
        "%%capture\n",
        "\n",
        "from dataclasses import dataclass, replace\n",
        "from pathlib import Path\n",
        "from typing import Callable, List, Optional, Sequence, Union\n",
        "\n",
        "import pandas as pd\n",
        "import torch\n",
        "import os\n",
        "from pandas import DataFrame\n",
        "from PIL import Image\n",
        "from torch.utils.data.dataloader import default_collate\n",
        "import sklearn\n",
        "import numpy as np\n",
        "from matplotlib import pyplot as plt\n",
        "\n",
        "import numpy as np\n",
        "from torchvision import transforms\n",
        "\n",
        "from torchvision import models\n",
        "from torch.nn.modules import loss\n",
        "from torch import optim\n",
        "from torch.utils.tensorboard import SummaryWriter\n",
        "import torch.nn as nn\n",
        "from tqdm.auto import tqdm\n",
        "\n",
        "from __future__ import print_function, division\n",
        "import os\n",
        "from skimage import io, transform\n",
        "from torch.utils.data import Dataset, DataLoader\n",
        "from torchvision import transforms, utils\n",
        "\n",
        "# Ignore warnings\n",
        "import warnings\n",
        "warnings.filterwarnings(\"ignore\")\n",
        "\n",
        "plt.ion()   # interactive mode\n",
        "from torchvision.transforms import RandomVerticalFlip, RandomCrop"
      ],
      "execution_count": 0,
      "outputs": []
    },
    {
      "cell_type": "code",
      "metadata": {
        "id": "wxi-IVBe1FgF",
        "colab_type": "code",
        "outputId": "e3b9ff7a-542d-4364-ad8a-8215de38bfc9",
        "colab": {
          "base_uri": "https://localhost:8080/",
          "height": 53
        }
      },
      "source": [
        "from google.colab import drive\n",
        "drive.mount('/content/gdrive')"
      ],
      "execution_count": 3,
      "outputs": [
        {
          "output_type": "stream",
          "text": [
            "Drive already mounted at /content/gdrive; to attempt to forcibly remount, call drive.mount(\"/content/gdrive\", force_remount=True).\n"
          ],
          "name": "stdout"
        }
      ]
    },
    {
      "cell_type": "code",
      "metadata": {
        "id": "IagAbDfb8O46",
        "colab_type": "code",
        "colab": {}
      },
      "source": [
        "path = '/content/gdrive/My Drive/ kern/'"
      ],
      "execution_count": 0,
      "outputs": []
    },
    {
      "cell_type": "code",
      "metadata": {
        "id": "niftXpV58KfV",
        "colab_type": "code",
        "colab": {}
      },
      "source": [
        "data = pd.read_csv(path+'data.csv')"
      ],
      "execution_count": 0,
      "outputs": []
    },
    {
      "cell_type": "code",
      "metadata": {
        "id": "AINHtlP_8Ws7",
        "colab_type": "code",
        "outputId": "0ca706ee-037d-4655-b947-112b95084e10",
        "colab": {
          "base_uri": "https://localhost:8080/",
          "height": 301
        }
      },
      "source": [
        "data.head()\n"
      ],
      "execution_count": 6,
      "outputs": [
        {
          "output_type": "execute_result",
          "data": {
            "text/html": [
              "<div>\n",
              "<style scoped>\n",
              "    .dataframe tbody tr th:only-of-type {\n",
              "        vertical-align: middle;\n",
              "    }\n",
              "\n",
              "    .dataframe tbody tr th {\n",
              "        vertical-align: top;\n",
              "    }\n",
              "\n",
              "    .dataframe thead th {\n",
              "        text-align: right;\n",
              "    }\n",
              "</style>\n",
              "<table border=\"1\" class=\"dataframe\">\n",
              "  <thead>\n",
              "    <tr style=\"text-align: right;\">\n",
              "      <th></th>\n",
              "      <th>Folder</th>\n",
              "      <th>Id</th>\n",
              "      <th>Field</th>\n",
              "      <th>Well</th>\n",
              "      <th>CoringTop</th>\n",
              "      <th>CoringDown</th>\n",
              "      <th>CoringTopBind</th>\n",
              "      <th>CoringDownBind</th>\n",
              "      <th>CoreRecovery</th>\n",
              "      <th>PhotoTop</th>\n",
              "      <th>PhotoDown</th>\n",
              "      <th>PhotoType</th>\n",
              "      <th>LayerTop</th>\n",
              "      <th>LayerDown</th>\n",
              "      <th>Rock</th>\n",
              "      <th>Carbonate</th>\n",
              "      <th>Ruin</th>\n",
              "      <th>Saturation</th>\n",
              "    </tr>\n",
              "  </thead>\n",
              "  <tbody>\n",
              "    <tr>\n",
              "      <th>0</th>\n",
              "      <td>Unload1</td>\n",
              "      <td>1000000</td>\n",
              "      <td>Field6</td>\n",
              "      <td>Well11</td>\n",
              "      <td>1957.1</td>\n",
              "      <td>1963.1</td>\n",
              "      <td>1958.3</td>\n",
              "      <td>1964.3</td>\n",
              "      <td>5.93</td>\n",
              "      <td>0.00</td>\n",
              "      <td>1.00</td>\n",
              "      <td>ДС</td>\n",
              "      <td>0.00</td>\n",
              "      <td>1.45</td>\n",
              "      <td>песчаник</td>\n",
              "      <td>не карбонатный</td>\n",
              "      <td>не разрушен</td>\n",
              "      <td>нефтенасыщенные</td>\n",
              "    </tr>\n",
              "    <tr>\n",
              "      <th>1</th>\n",
              "      <td>Unload1</td>\n",
              "      <td>1000001</td>\n",
              "      <td>Field6</td>\n",
              "      <td>Well11</td>\n",
              "      <td>1957.1</td>\n",
              "      <td>1963.1</td>\n",
              "      <td>1958.3</td>\n",
              "      <td>1964.3</td>\n",
              "      <td>5.93</td>\n",
              "      <td>0.00</td>\n",
              "      <td>1.00</td>\n",
              "      <td>УФ</td>\n",
              "      <td>0.00</td>\n",
              "      <td>1.45</td>\n",
              "      <td>песчаник</td>\n",
              "      <td>не карбонатный</td>\n",
              "      <td>не разрушен</td>\n",
              "      <td>нефтенасыщенные</td>\n",
              "    </tr>\n",
              "    <tr>\n",
              "      <th>2</th>\n",
              "      <td>Unload1</td>\n",
              "      <td>1000002</td>\n",
              "      <td>Field6</td>\n",
              "      <td>Well11</td>\n",
              "      <td>1957.1</td>\n",
              "      <td>1963.1</td>\n",
              "      <td>1958.3</td>\n",
              "      <td>1964.3</td>\n",
              "      <td>5.93</td>\n",
              "      <td>1.00</td>\n",
              "      <td>1.45</td>\n",
              "      <td>ДС</td>\n",
              "      <td>0.00</td>\n",
              "      <td>1.45</td>\n",
              "      <td>песчаник</td>\n",
              "      <td>не карбонатный</td>\n",
              "      <td>не разрушен</td>\n",
              "      <td>нефтенасыщенные</td>\n",
              "    </tr>\n",
              "    <tr>\n",
              "      <th>3</th>\n",
              "      <td>Unload1</td>\n",
              "      <td>1000003</td>\n",
              "      <td>Field6</td>\n",
              "      <td>Well11</td>\n",
              "      <td>1957.1</td>\n",
              "      <td>1963.1</td>\n",
              "      <td>1958.3</td>\n",
              "      <td>1964.3</td>\n",
              "      <td>5.93</td>\n",
              "      <td>1.00</td>\n",
              "      <td>1.45</td>\n",
              "      <td>УФ</td>\n",
              "      <td>0.00</td>\n",
              "      <td>1.45</td>\n",
              "      <td>песчаник</td>\n",
              "      <td>не карбонатный</td>\n",
              "      <td>не разрушен</td>\n",
              "      <td>нефтенасыщенные</td>\n",
              "    </tr>\n",
              "    <tr>\n",
              "      <th>4</th>\n",
              "      <td>Unload1</td>\n",
              "      <td>1000004</td>\n",
              "      <td>Field6</td>\n",
              "      <td>Well11</td>\n",
              "      <td>1957.1</td>\n",
              "      <td>1963.1</td>\n",
              "      <td>1958.3</td>\n",
              "      <td>1964.3</td>\n",
              "      <td>5.93</td>\n",
              "      <td>1.45</td>\n",
              "      <td>2.00</td>\n",
              "      <td>ДС</td>\n",
              "      <td>1.45</td>\n",
              "      <td>3.54</td>\n",
              "      <td>алевролит</td>\n",
              "      <td>не карбонатный</td>\n",
              "      <td>не разрушен</td>\n",
              "      <td>не опред.</td>\n",
              "    </tr>\n",
              "  </tbody>\n",
              "</table>\n",
              "</div>"
            ],
            "text/plain": [
              "    Folder       Id   Field  ...       Carbonate         Ruin       Saturation\n",
              "0  Unload1  1000000  Field6  ...  не карбонатный  не разрушен  нефтенасыщенные\n",
              "1  Unload1  1000001  Field6  ...  не карбонатный  не разрушен  нефтенасыщенные\n",
              "2  Unload1  1000002  Field6  ...  не карбонатный  не разрушен  нефтенасыщенные\n",
              "3  Unload1  1000003  Field6  ...  не карбонатный  не разрушен  нефтенасыщенные\n",
              "4  Unload1  1000004  Field6  ...  не карбонатный  не разрушен        не опред.\n",
              "\n",
              "[5 rows x 18 columns]"
            ]
          },
          "metadata": {
            "tags": []
          },
          "execution_count": 6
        }
      ]
    },
    {
      "cell_type": "code",
      "metadata": {
        "id": "3UBcIjnb8YTx",
        "colab_type": "code",
        "outputId": "dc8b661c-a303-4a7f-95ae-eadbd95762d0",
        "colab": {
          "base_uri": "https://localhost:8080/",
          "height": 161
        }
      },
      "source": [
        "data.loc[data.Id==1000000,]"
      ],
      "execution_count": 7,
      "outputs": [
        {
          "output_type": "execute_result",
          "data": {
            "text/html": [
              "<div>\n",
              "<style scoped>\n",
              "    .dataframe tbody tr th:only-of-type {\n",
              "        vertical-align: middle;\n",
              "    }\n",
              "\n",
              "    .dataframe tbody tr th {\n",
              "        vertical-align: top;\n",
              "    }\n",
              "\n",
              "    .dataframe thead th {\n",
              "        text-align: right;\n",
              "    }\n",
              "</style>\n",
              "<table border=\"1\" class=\"dataframe\">\n",
              "  <thead>\n",
              "    <tr style=\"text-align: right;\">\n",
              "      <th></th>\n",
              "      <th>Folder</th>\n",
              "      <th>Id</th>\n",
              "      <th>Field</th>\n",
              "      <th>Well</th>\n",
              "      <th>CoringTop</th>\n",
              "      <th>CoringDown</th>\n",
              "      <th>CoringTopBind</th>\n",
              "      <th>CoringDownBind</th>\n",
              "      <th>CoreRecovery</th>\n",
              "      <th>PhotoTop</th>\n",
              "      <th>PhotoDown</th>\n",
              "      <th>PhotoType</th>\n",
              "      <th>LayerTop</th>\n",
              "      <th>LayerDown</th>\n",
              "      <th>Rock</th>\n",
              "      <th>Carbonate</th>\n",
              "      <th>Ruin</th>\n",
              "      <th>Saturation</th>\n",
              "    </tr>\n",
              "  </thead>\n",
              "  <tbody>\n",
              "    <tr>\n",
              "      <th>0</th>\n",
              "      <td>Unload1</td>\n",
              "      <td>1000000</td>\n",
              "      <td>Field6</td>\n",
              "      <td>Well11</td>\n",
              "      <td>1957.1</td>\n",
              "      <td>1963.1</td>\n",
              "      <td>1958.3</td>\n",
              "      <td>1964.3</td>\n",
              "      <td>5.93</td>\n",
              "      <td>0.0</td>\n",
              "      <td>1.00</td>\n",
              "      <td>ДС</td>\n",
              "      <td>0.0</td>\n",
              "      <td>1.45</td>\n",
              "      <td>песчаник</td>\n",
              "      <td>не карбонатный</td>\n",
              "      <td>не разрушен</td>\n",
              "      <td>нефтенасыщенные</td>\n",
              "    </tr>\n",
              "    <tr>\n",
              "      <th>1414</th>\n",
              "      <td>Unload2</td>\n",
              "      <td>1000000</td>\n",
              "      <td>Field4</td>\n",
              "      <td>Well4</td>\n",
              "      <td>2683.0</td>\n",
              "      <td>2692.0</td>\n",
              "      <td>2682.5</td>\n",
              "      <td>2691.5</td>\n",
              "      <td>8.98</td>\n",
              "      <td>0.0</td>\n",
              "      <td>0.48</td>\n",
              "      <td>ДС</td>\n",
              "      <td>0.0</td>\n",
              "      <td>0.48</td>\n",
              "      <td>песчаник</td>\n",
              "      <td>слабокарбонатный</td>\n",
              "      <td>не разрушен</td>\n",
              "      <td>не опред.</td>\n",
              "    </tr>\n",
              "  </tbody>\n",
              "</table>\n",
              "</div>"
            ],
            "text/plain": [
              "       Folder       Id   Field  ...         Carbonate         Ruin       Saturation\n",
              "0     Unload1  1000000  Field6  ...    не карбонатный  не разрушен  нефтенасыщенные\n",
              "1414  Unload2  1000000  Field4  ...  слабокарбонатный  не разрушен        не опред.\n",
              "\n",
              "[2 rows x 18 columns]"
            ]
          },
          "metadata": {
            "tags": []
          },
          "execution_count": 7
        }
      ]
    },
    {
      "cell_type": "markdown",
      "metadata": {
        "id": "_ae4UK_e9Nri",
        "colab_type": "text"
      },
      "source": [
        "Мой диск не вмещает весь датасет, так что пока я буду работать только с первой скважиной.\n",
        "\n",
        "Здесь я хочу отделить фото разных типов, чтобы натренировать две сетки - по одной на каждый тип.\n"
      ]
    },
    {
      "cell_type": "code",
      "metadata": {
        "id": "gDU26by98h8a",
        "colab_type": "code",
        "colab": {}
      },
      "source": [
        "data = data.loc[data.Folder=='Unload1', ]\n"
      ],
      "execution_count": 0,
      "outputs": []
    },
    {
      "cell_type": "code",
      "metadata": {
        "id": "MroEGASjypeq",
        "colab_type": "code",
        "colab": {}
      },
      "source": [
        "data.to_csv(path+'data_1.csv')"
      ],
      "execution_count": 0,
      "outputs": []
    },
    {
      "cell_type": "markdown",
      "metadata": {
        "id": "vWZH4VJtI52T",
        "colab_type": "text"
      },
      "source": [
        "Нам нужны не все классы, а только некоторые. Пока я подготовлю словари для переименования классов. "
      ]
    },
    {
      "cell_type": "code",
      "metadata": {
        "id": "AlW4M6zZ9Mdd",
        "colab_type": "code",
        "colab": {}
      },
      "source": [
        "satur_dict = {'не опред.': 'unknown', 'нефтенасыщенные': 'oil','битуминозный':'oil', 'продукт':'oil', 'пятнисто нефтенасыщенные': 'oil','слабо нефтенасыщенные':'oil' }"
      ],
      "execution_count": 0,
      "outputs": []
    },
    {
      "cell_type": "code",
      "metadata": {
        "id": "AdSuiVwfI4_L",
        "colab_type": "code",
        "colab": {}
      },
      "source": [
        "rock_dict = {\"с карбонатными обломками или конкрециями\": \"с карб. обломками или конкрециями\", \\\n",
        "             \"пересл. кремнисто-глинистой породы и аргиллита\": \"пересл. кремн.-глинист. породы и аргиллитa\", \\\n",
        "             \"пересл. песчаника и глины аргиллитоподобной\" : \"пересл. песчаника и глины аргиллитоподобн.\"}"
      ],
      "execution_count": 0,
      "outputs": []
    },
    {
      "cell_type": "code",
      "metadata": {
        "id": "HH26BLG_K4Pe",
        "colab_type": "code",
        "colab": {}
      },
      "source": [
        "carbon_dict = {\"не карбонатный\": 'no_carbon', 'с карбонатными обломками или конкрециями': 'part_carbon', 'слабокарбонатный': 'carbon', \\\n",
        "               'сильнокарбонатный': 'carbon', 'среднекарбонатный':'carbon', 'пятнисто карбонатный':'part_carbon', 'с примесью':'part_carbon'}"
      ],
      "execution_count": 0,
      "outputs": []
    },
    {
      "cell_type": "code",
      "metadata": {
        "id": "r6pkc5zVPvu2",
        "colab_type": "code",
        "colab": {}
      },
      "source": [
        "ruin_dict = {\"не карбонатный\": 'no_carbon', 'с карбонатными обломками или конкрециями': 'part_carbon', 'слабокарбонатный': 'carbon', \\\n",
        "               'сильнокарбонатный': 'carbon', 'среднекарбонатный':'carbon', 'пятнисто карбонатный':'part_carbon', 'с примесью':'part_carbon'}"
      ],
      "execution_count": 0,
      "outputs": []
    },
    {
      "cell_type": "code",
      "metadata": {
        "id": "smesTMBdK9d1",
        "colab_type": "code",
        "outputId": "6b6ca81d-9542-4bd7-c36a-e44ac3d6590e",
        "colab": {
          "base_uri": "https://localhost:8080/",
          "height": 133
        }
      },
      "source": [
        "data.Carbonate.value_counts()"
      ],
      "execution_count": 15,
      "outputs": [
        {
          "output_type": "execute_result",
          "data": {
            "text/plain": [
              "не карбонатный                              778\n",
              "слабокарбонатный                            216\n",
              "с карбонатными обломками или конкрециями    198\n",
              "среднекарбонатный                            92\n",
              "сильнокарбонатный                            90\n",
              "с примесью                                   40\n",
              "Name: Carbonate, dtype: int64"
            ]
          },
          "metadata": {
            "tags": []
          },
          "execution_count": 15
        }
      ]
    },
    {
      "cell_type": "code",
      "metadata": {
        "id": "o-jDb9V-LyM_",
        "colab_type": "code",
        "outputId": "91b39e75-6caa-4dc5-e120-de4247ebd7ce",
        "colab": {
          "base_uri": "https://localhost:8080/",
          "height": 150
        }
      },
      "source": [
        "data.Rock.value_counts()"
      ],
      "execution_count": 16,
      "outputs": [
        {
          "output_type": "execute_result",
          "data": {
            "text/plain": [
              "песчаник                                750\n",
              "алевролит                               308\n",
              "пересл. песчаника, алевролита и глин    168\n",
              "аргиллит                                 92\n",
              "песчаник глинистый                       74\n",
              "алевро-аргиллит                          18\n",
              "глина                                     4\n",
              "Name: Rock, dtype: int64"
            ]
          },
          "metadata": {
            "tags": []
          },
          "execution_count": 16
        }
      ]
    },
    {
      "cell_type": "code",
      "metadata": {
        "id": "CwwFQmRCPraO",
        "colab_type": "code",
        "outputId": "fb671df5-050b-46c4-d1ae-1bdcc97c9292",
        "colab": {
          "base_uri": "https://localhost:8080/",
          "height": 83
        }
      },
      "source": [
        "data.Ruin.value_counts()"
      ],
      "execution_count": 17,
      "outputs": [
        {
          "output_type": "execute_result",
          "data": {
            "text/plain": [
              "не разрушен          1172\n",
              "частично разрушен     230\n",
              "разрушен               12\n",
              "Name: Ruin, dtype: int64"
            ]
          },
          "metadata": {
            "tags": []
          },
          "execution_count": 17
        }
      ]
    },
    {
      "cell_type": "code",
      "metadata": {
        "id": "PopeML0r-QmR",
        "colab_type": "code",
        "outputId": "d1aac5f5-008a-4569-c42b-9dc912a07fc1",
        "colab": {
          "base_uri": "https://localhost:8080/",
          "height": 116
        }
      },
      "source": [
        "satur_dict"
      ],
      "execution_count": 18,
      "outputs": [
        {
          "output_type": "execute_result",
          "data": {
            "text/plain": [
              "{'битуминозный': 'oil',\n",
              " 'не опред.': 'unknown',\n",
              " 'нефтенасыщенные': 'oil',\n",
              " 'продукт': 'oil',\n",
              " 'пятнисто нефтенасыщенные': 'oil',\n",
              " 'слабо нефтенасыщенные': 'oil'}"
            ]
          },
          "metadata": {
            "tags": []
          },
          "execution_count": 18
        }
      ]
    },
    {
      "cell_type": "markdown",
      "metadata": {
        "id": "oCTaba3N-nmj",
        "colab_type": "text"
      },
      "source": [
        "Я подготовила функцию для ьыстрой замены классов."
      ]
    },
    {
      "cell_type": "code",
      "metadata": {
        "id": "yo7snOckKe5m",
        "colab_type": "code",
        "colab": {}
      },
      "source": [
        "def apply_class(data, column, class_dict):\n",
        "  data['class']=data[column].apply(lambda x:class_dict[x] if (x in class_dict) else x)"
      ],
      "execution_count": 0,
      "outputs": []
    },
    {
      "cell_type": "code",
      "metadata": {
        "id": "koohW2DsKtxU",
        "colab_type": "code",
        "colab": {}
      },
      "source": [
        "apply_class(data,'Saturation', satur_dict)"
      ],
      "execution_count": 0,
      "outputs": []
    },
    {
      "cell_type": "code",
      "metadata": {
        "id": "dAeY39MHPcY3",
        "colab_type": "code",
        "colab": {}
      },
      "source": [
        "#apply_class(data,'Rock', rock_dict)"
      ],
      "execution_count": 0,
      "outputs": []
    },
    {
      "cell_type": "code",
      "metadata": {
        "id": "OJAKFB6N__vx",
        "colab_type": "code",
        "outputId": "0c1bd6eb-5b34-4f33-bc2c-e33f10d671d5",
        "colab": {
          "base_uri": "https://localhost:8080/",
          "height": 301
        }
      },
      "source": [
        "data.head()"
      ],
      "execution_count": 25,
      "outputs": [
        {
          "output_type": "execute_result",
          "data": {
            "text/html": [
              "<div>\n",
              "<style scoped>\n",
              "    .dataframe tbody tr th:only-of-type {\n",
              "        vertical-align: middle;\n",
              "    }\n",
              "\n",
              "    .dataframe tbody tr th {\n",
              "        vertical-align: top;\n",
              "    }\n",
              "\n",
              "    .dataframe thead th {\n",
              "        text-align: right;\n",
              "    }\n",
              "</style>\n",
              "<table border=\"1\" class=\"dataframe\">\n",
              "  <thead>\n",
              "    <tr style=\"text-align: right;\">\n",
              "      <th></th>\n",
              "      <th>Folder</th>\n",
              "      <th>Id</th>\n",
              "      <th>Field</th>\n",
              "      <th>Well</th>\n",
              "      <th>CoringTop</th>\n",
              "      <th>CoringDown</th>\n",
              "      <th>CoringTopBind</th>\n",
              "      <th>CoringDownBind</th>\n",
              "      <th>CoreRecovery</th>\n",
              "      <th>PhotoTop</th>\n",
              "      <th>PhotoDown</th>\n",
              "      <th>PhotoType</th>\n",
              "      <th>LayerTop</th>\n",
              "      <th>LayerDown</th>\n",
              "      <th>Rock</th>\n",
              "      <th>Carbonate</th>\n",
              "      <th>Ruin</th>\n",
              "      <th>Saturation</th>\n",
              "      <th>class</th>\n",
              "    </tr>\n",
              "  </thead>\n",
              "  <tbody>\n",
              "    <tr>\n",
              "      <th>0</th>\n",
              "      <td>Unload1</td>\n",
              "      <td>1000000</td>\n",
              "      <td>Field6</td>\n",
              "      <td>Well11</td>\n",
              "      <td>1957.1</td>\n",
              "      <td>1963.1</td>\n",
              "      <td>1958.3</td>\n",
              "      <td>1964.3</td>\n",
              "      <td>5.93</td>\n",
              "      <td>0.00</td>\n",
              "      <td>1.00</td>\n",
              "      <td>ДС</td>\n",
              "      <td>0.00</td>\n",
              "      <td>1.45</td>\n",
              "      <td>песчаник</td>\n",
              "      <td>не карбонатный</td>\n",
              "      <td>не разрушен</td>\n",
              "      <td>нефтенасыщенные</td>\n",
              "      <td>oil</td>\n",
              "    </tr>\n",
              "    <tr>\n",
              "      <th>1</th>\n",
              "      <td>Unload1</td>\n",
              "      <td>1000001</td>\n",
              "      <td>Field6</td>\n",
              "      <td>Well11</td>\n",
              "      <td>1957.1</td>\n",
              "      <td>1963.1</td>\n",
              "      <td>1958.3</td>\n",
              "      <td>1964.3</td>\n",
              "      <td>5.93</td>\n",
              "      <td>0.00</td>\n",
              "      <td>1.00</td>\n",
              "      <td>УФ</td>\n",
              "      <td>0.00</td>\n",
              "      <td>1.45</td>\n",
              "      <td>песчаник</td>\n",
              "      <td>не карбонатный</td>\n",
              "      <td>не разрушен</td>\n",
              "      <td>нефтенасыщенные</td>\n",
              "      <td>oil</td>\n",
              "    </tr>\n",
              "    <tr>\n",
              "      <th>2</th>\n",
              "      <td>Unload1</td>\n",
              "      <td>1000002</td>\n",
              "      <td>Field6</td>\n",
              "      <td>Well11</td>\n",
              "      <td>1957.1</td>\n",
              "      <td>1963.1</td>\n",
              "      <td>1958.3</td>\n",
              "      <td>1964.3</td>\n",
              "      <td>5.93</td>\n",
              "      <td>1.00</td>\n",
              "      <td>1.45</td>\n",
              "      <td>ДС</td>\n",
              "      <td>0.00</td>\n",
              "      <td>1.45</td>\n",
              "      <td>песчаник</td>\n",
              "      <td>не карбонатный</td>\n",
              "      <td>не разрушен</td>\n",
              "      <td>нефтенасыщенные</td>\n",
              "      <td>oil</td>\n",
              "    </tr>\n",
              "    <tr>\n",
              "      <th>3</th>\n",
              "      <td>Unload1</td>\n",
              "      <td>1000003</td>\n",
              "      <td>Field6</td>\n",
              "      <td>Well11</td>\n",
              "      <td>1957.1</td>\n",
              "      <td>1963.1</td>\n",
              "      <td>1958.3</td>\n",
              "      <td>1964.3</td>\n",
              "      <td>5.93</td>\n",
              "      <td>1.00</td>\n",
              "      <td>1.45</td>\n",
              "      <td>УФ</td>\n",
              "      <td>0.00</td>\n",
              "      <td>1.45</td>\n",
              "      <td>песчаник</td>\n",
              "      <td>не карбонатный</td>\n",
              "      <td>не разрушен</td>\n",
              "      <td>нефтенасыщенные</td>\n",
              "      <td>oil</td>\n",
              "    </tr>\n",
              "    <tr>\n",
              "      <th>4</th>\n",
              "      <td>Unload1</td>\n",
              "      <td>1000004</td>\n",
              "      <td>Field6</td>\n",
              "      <td>Well11</td>\n",
              "      <td>1957.1</td>\n",
              "      <td>1963.1</td>\n",
              "      <td>1958.3</td>\n",
              "      <td>1964.3</td>\n",
              "      <td>5.93</td>\n",
              "      <td>1.45</td>\n",
              "      <td>2.00</td>\n",
              "      <td>ДС</td>\n",
              "      <td>1.45</td>\n",
              "      <td>3.54</td>\n",
              "      <td>алевролит</td>\n",
              "      <td>не карбонатный</td>\n",
              "      <td>не разрушен</td>\n",
              "      <td>не опред.</td>\n",
              "      <td>unknown</td>\n",
              "    </tr>\n",
              "  </tbody>\n",
              "</table>\n",
              "</div>"
            ],
            "text/plain": [
              "    Folder       Id   Field  ...         Ruin       Saturation    class\n",
              "0  Unload1  1000000  Field6  ...  не разрушен  нефтенасыщенные      oil\n",
              "1  Unload1  1000001  Field6  ...  не разрушен  нефтенасыщенные      oil\n",
              "2  Unload1  1000002  Field6  ...  не разрушен  нефтенасыщенные      oil\n",
              "3  Unload1  1000003  Field6  ...  не разрушен  нефтенасыщенные      oil\n",
              "4  Unload1  1000004  Field6  ...  не разрушен        не опред.  unknown\n",
              "\n",
              "[5 rows x 19 columns]"
            ]
          },
          "metadata": {
            "tags": []
          },
          "execution_count": 25
        }
      ]
    },
    {
      "cell_type": "code",
      "metadata": {
        "id": "q8OZs8R4AGBZ",
        "colab_type": "code",
        "outputId": "fc66ab87-88a5-44ac-8471-720fd0b181e3",
        "colab": {
          "base_uri": "https://localhost:8080/",
          "height": 66
        }
      },
      "source": [
        "data['class'].value_counts()"
      ],
      "execution_count": 22,
      "outputs": [
        {
          "output_type": "execute_result",
          "data": {
            "text/plain": [
              "unknown    890\n",
              "oil        524\n",
              "Name: class, dtype: int64"
            ]
          },
          "metadata": {
            "tags": []
          },
          "execution_count": 22
        }
      ]
    },
    {
      "cell_type": "code",
      "metadata": {
        "id": "P8jqeuoR-N9Z",
        "colab_type": "code",
        "colab": {}
      },
      "source": [
        "data_dc = data.loc[data.PhotoType=='ДС',].reset_index(drop=True)\n",
        "data_uf = data.loc[data.PhotoType!='ДС',].reset_index(drop=True)\n",
        "#data_2 = data.loc[data.Folder=='Unload2', ]"
      ],
      "execution_count": 0,
      "outputs": []
    },
    {
      "cell_type": "code",
      "metadata": {
        "id": "4sBRM0Xr4LGZ",
        "colab_type": "code",
        "colab": {}
      },
      "source": [
        "data_dc.to_csv(path+'data_1_dc.csv')\n",
        "data_uf.to_csv(path+'data_1_uf.csv')"
      ],
      "execution_count": 0,
      "outputs": []
    },
    {
      "cell_type": "code",
      "metadata": {
        "id": "IYtw7L9w-9Q0",
        "colab_type": "code",
        "colab": {
          "base_uri": "https://localhost:8080/",
          "height": 301
        },
        "outputId": "4983bb35-e4a8-4269-9a2c-3952aadaccc7"
      },
      "source": [
        "data_dc.head()"
      ],
      "execution_count": 27,
      "outputs": [
        {
          "output_type": "execute_result",
          "data": {
            "text/html": [
              "<div>\n",
              "<style scoped>\n",
              "    .dataframe tbody tr th:only-of-type {\n",
              "        vertical-align: middle;\n",
              "    }\n",
              "\n",
              "    .dataframe tbody tr th {\n",
              "        vertical-align: top;\n",
              "    }\n",
              "\n",
              "    .dataframe thead th {\n",
              "        text-align: right;\n",
              "    }\n",
              "</style>\n",
              "<table border=\"1\" class=\"dataframe\">\n",
              "  <thead>\n",
              "    <tr style=\"text-align: right;\">\n",
              "      <th></th>\n",
              "      <th>Folder</th>\n",
              "      <th>Id</th>\n",
              "      <th>Field</th>\n",
              "      <th>Well</th>\n",
              "      <th>CoringTop</th>\n",
              "      <th>CoringDown</th>\n",
              "      <th>CoringTopBind</th>\n",
              "      <th>CoringDownBind</th>\n",
              "      <th>CoreRecovery</th>\n",
              "      <th>PhotoTop</th>\n",
              "      <th>PhotoDown</th>\n",
              "      <th>PhotoType</th>\n",
              "      <th>LayerTop</th>\n",
              "      <th>LayerDown</th>\n",
              "      <th>Rock</th>\n",
              "      <th>Carbonate</th>\n",
              "      <th>Ruin</th>\n",
              "      <th>Saturation</th>\n",
              "      <th>class</th>\n",
              "    </tr>\n",
              "  </thead>\n",
              "  <tbody>\n",
              "    <tr>\n",
              "      <th>0</th>\n",
              "      <td>Unload1</td>\n",
              "      <td>1000000</td>\n",
              "      <td>Field6</td>\n",
              "      <td>Well11</td>\n",
              "      <td>1957.1</td>\n",
              "      <td>1963.1</td>\n",
              "      <td>1958.3</td>\n",
              "      <td>1964.3</td>\n",
              "      <td>5.93</td>\n",
              "      <td>0.00</td>\n",
              "      <td>1.00</td>\n",
              "      <td>ДС</td>\n",
              "      <td>0.00</td>\n",
              "      <td>1.45</td>\n",
              "      <td>песчаник</td>\n",
              "      <td>не карбонатный</td>\n",
              "      <td>не разрушен</td>\n",
              "      <td>нефтенасыщенные</td>\n",
              "      <td>oil</td>\n",
              "    </tr>\n",
              "    <tr>\n",
              "      <th>1</th>\n",
              "      <td>Unload1</td>\n",
              "      <td>1000002</td>\n",
              "      <td>Field6</td>\n",
              "      <td>Well11</td>\n",
              "      <td>1957.1</td>\n",
              "      <td>1963.1</td>\n",
              "      <td>1958.3</td>\n",
              "      <td>1964.3</td>\n",
              "      <td>5.93</td>\n",
              "      <td>1.00</td>\n",
              "      <td>1.45</td>\n",
              "      <td>ДС</td>\n",
              "      <td>0.00</td>\n",
              "      <td>1.45</td>\n",
              "      <td>песчаник</td>\n",
              "      <td>не карбонатный</td>\n",
              "      <td>не разрушен</td>\n",
              "      <td>нефтенасыщенные</td>\n",
              "      <td>oil</td>\n",
              "    </tr>\n",
              "    <tr>\n",
              "      <th>2</th>\n",
              "      <td>Unload1</td>\n",
              "      <td>1000004</td>\n",
              "      <td>Field6</td>\n",
              "      <td>Well11</td>\n",
              "      <td>1957.1</td>\n",
              "      <td>1963.1</td>\n",
              "      <td>1958.3</td>\n",
              "      <td>1964.3</td>\n",
              "      <td>5.93</td>\n",
              "      <td>1.45</td>\n",
              "      <td>2.00</td>\n",
              "      <td>ДС</td>\n",
              "      <td>1.45</td>\n",
              "      <td>3.54</td>\n",
              "      <td>алевролит</td>\n",
              "      <td>не карбонатный</td>\n",
              "      <td>не разрушен</td>\n",
              "      <td>не опред.</td>\n",
              "      <td>unknown</td>\n",
              "    </tr>\n",
              "    <tr>\n",
              "      <th>3</th>\n",
              "      <td>Unload1</td>\n",
              "      <td>1000006</td>\n",
              "      <td>Field6</td>\n",
              "      <td>Well11</td>\n",
              "      <td>1957.1</td>\n",
              "      <td>1963.1</td>\n",
              "      <td>1958.3</td>\n",
              "      <td>1964.3</td>\n",
              "      <td>5.93</td>\n",
              "      <td>2.00</td>\n",
              "      <td>3.00</td>\n",
              "      <td>ДС</td>\n",
              "      <td>1.45</td>\n",
              "      <td>3.54</td>\n",
              "      <td>алевролит</td>\n",
              "      <td>не карбонатный</td>\n",
              "      <td>не разрушен</td>\n",
              "      <td>не опред.</td>\n",
              "      <td>unknown</td>\n",
              "    </tr>\n",
              "    <tr>\n",
              "      <th>4</th>\n",
              "      <td>Unload1</td>\n",
              "      <td>1000008</td>\n",
              "      <td>Field6</td>\n",
              "      <td>Well11</td>\n",
              "      <td>1957.1</td>\n",
              "      <td>1963.1</td>\n",
              "      <td>1958.3</td>\n",
              "      <td>1964.3</td>\n",
              "      <td>5.93</td>\n",
              "      <td>3.00</td>\n",
              "      <td>3.54</td>\n",
              "      <td>ДС</td>\n",
              "      <td>1.45</td>\n",
              "      <td>3.54</td>\n",
              "      <td>алевролит</td>\n",
              "      <td>не карбонатный</td>\n",
              "      <td>не разрушен</td>\n",
              "      <td>не опред.</td>\n",
              "      <td>unknown</td>\n",
              "    </tr>\n",
              "  </tbody>\n",
              "</table>\n",
              "</div>"
            ],
            "text/plain": [
              "    Folder       Id   Field  ...         Ruin       Saturation    class\n",
              "0  Unload1  1000000  Field6  ...  не разрушен  нефтенасыщенные      oil\n",
              "1  Unload1  1000002  Field6  ...  не разрушен  нефтенасыщенные      oil\n",
              "2  Unload1  1000004  Field6  ...  не разрушен        не опред.  unknown\n",
              "3  Unload1  1000006  Field6  ...  не разрушен        не опред.  unknown\n",
              "4  Unload1  1000008  Field6  ...  не разрушен        не опред.  unknown\n",
              "\n",
              "[5 rows x 19 columns]"
            ]
          },
          "metadata": {
            "tags": []
          },
          "execution_count": 27
        }
      ]
    },
    {
      "cell_type": "code",
      "metadata": {
        "id": "p6a0n-6p--ga",
        "colab_type": "code",
        "colab": {
          "base_uri": "https://localhost:8080/",
          "height": 301
        },
        "outputId": "871d2c59-f14e-4d1b-9d16-0e34271ad537"
      },
      "source": [
        "data_uf.head()"
      ],
      "execution_count": 28,
      "outputs": [
        {
          "output_type": "execute_result",
          "data": {
            "text/html": [
              "<div>\n",
              "<style scoped>\n",
              "    .dataframe tbody tr th:only-of-type {\n",
              "        vertical-align: middle;\n",
              "    }\n",
              "\n",
              "    .dataframe tbody tr th {\n",
              "        vertical-align: top;\n",
              "    }\n",
              "\n",
              "    .dataframe thead th {\n",
              "        text-align: right;\n",
              "    }\n",
              "</style>\n",
              "<table border=\"1\" class=\"dataframe\">\n",
              "  <thead>\n",
              "    <tr style=\"text-align: right;\">\n",
              "      <th></th>\n",
              "      <th>Folder</th>\n",
              "      <th>Id</th>\n",
              "      <th>Field</th>\n",
              "      <th>Well</th>\n",
              "      <th>CoringTop</th>\n",
              "      <th>CoringDown</th>\n",
              "      <th>CoringTopBind</th>\n",
              "      <th>CoringDownBind</th>\n",
              "      <th>CoreRecovery</th>\n",
              "      <th>PhotoTop</th>\n",
              "      <th>PhotoDown</th>\n",
              "      <th>PhotoType</th>\n",
              "      <th>LayerTop</th>\n",
              "      <th>LayerDown</th>\n",
              "      <th>Rock</th>\n",
              "      <th>Carbonate</th>\n",
              "      <th>Ruin</th>\n",
              "      <th>Saturation</th>\n",
              "      <th>class</th>\n",
              "    </tr>\n",
              "  </thead>\n",
              "  <tbody>\n",
              "    <tr>\n",
              "      <th>0</th>\n",
              "      <td>Unload1</td>\n",
              "      <td>1000001</td>\n",
              "      <td>Field6</td>\n",
              "      <td>Well11</td>\n",
              "      <td>1957.1</td>\n",
              "      <td>1963.1</td>\n",
              "      <td>1958.3</td>\n",
              "      <td>1964.3</td>\n",
              "      <td>5.93</td>\n",
              "      <td>0.00</td>\n",
              "      <td>1.00</td>\n",
              "      <td>УФ</td>\n",
              "      <td>0.00</td>\n",
              "      <td>1.45</td>\n",
              "      <td>песчаник</td>\n",
              "      <td>не карбонатный</td>\n",
              "      <td>не разрушен</td>\n",
              "      <td>нефтенасыщенные</td>\n",
              "      <td>oil</td>\n",
              "    </tr>\n",
              "    <tr>\n",
              "      <th>1</th>\n",
              "      <td>Unload1</td>\n",
              "      <td>1000003</td>\n",
              "      <td>Field6</td>\n",
              "      <td>Well11</td>\n",
              "      <td>1957.1</td>\n",
              "      <td>1963.1</td>\n",
              "      <td>1958.3</td>\n",
              "      <td>1964.3</td>\n",
              "      <td>5.93</td>\n",
              "      <td>1.00</td>\n",
              "      <td>1.45</td>\n",
              "      <td>УФ</td>\n",
              "      <td>0.00</td>\n",
              "      <td>1.45</td>\n",
              "      <td>песчаник</td>\n",
              "      <td>не карбонатный</td>\n",
              "      <td>не разрушен</td>\n",
              "      <td>нефтенасыщенные</td>\n",
              "      <td>oil</td>\n",
              "    </tr>\n",
              "    <tr>\n",
              "      <th>2</th>\n",
              "      <td>Unload1</td>\n",
              "      <td>1000005</td>\n",
              "      <td>Field6</td>\n",
              "      <td>Well11</td>\n",
              "      <td>1957.1</td>\n",
              "      <td>1963.1</td>\n",
              "      <td>1958.3</td>\n",
              "      <td>1964.3</td>\n",
              "      <td>5.93</td>\n",
              "      <td>1.45</td>\n",
              "      <td>2.00</td>\n",
              "      <td>УФ</td>\n",
              "      <td>1.45</td>\n",
              "      <td>3.54</td>\n",
              "      <td>алевролит</td>\n",
              "      <td>не карбонатный</td>\n",
              "      <td>не разрушен</td>\n",
              "      <td>не опред.</td>\n",
              "      <td>unknown</td>\n",
              "    </tr>\n",
              "    <tr>\n",
              "      <th>3</th>\n",
              "      <td>Unload1</td>\n",
              "      <td>1000007</td>\n",
              "      <td>Field6</td>\n",
              "      <td>Well11</td>\n",
              "      <td>1957.1</td>\n",
              "      <td>1963.1</td>\n",
              "      <td>1958.3</td>\n",
              "      <td>1964.3</td>\n",
              "      <td>5.93</td>\n",
              "      <td>2.00</td>\n",
              "      <td>3.00</td>\n",
              "      <td>УФ</td>\n",
              "      <td>1.45</td>\n",
              "      <td>3.54</td>\n",
              "      <td>алевролит</td>\n",
              "      <td>не карбонатный</td>\n",
              "      <td>не разрушен</td>\n",
              "      <td>не опред.</td>\n",
              "      <td>unknown</td>\n",
              "    </tr>\n",
              "    <tr>\n",
              "      <th>4</th>\n",
              "      <td>Unload1</td>\n",
              "      <td>1000009</td>\n",
              "      <td>Field6</td>\n",
              "      <td>Well11</td>\n",
              "      <td>1957.1</td>\n",
              "      <td>1963.1</td>\n",
              "      <td>1958.3</td>\n",
              "      <td>1964.3</td>\n",
              "      <td>5.93</td>\n",
              "      <td>3.00</td>\n",
              "      <td>3.54</td>\n",
              "      <td>УФ</td>\n",
              "      <td>1.45</td>\n",
              "      <td>3.54</td>\n",
              "      <td>алевролит</td>\n",
              "      <td>не карбонатный</td>\n",
              "      <td>не разрушен</td>\n",
              "      <td>не опред.</td>\n",
              "      <td>unknown</td>\n",
              "    </tr>\n",
              "  </tbody>\n",
              "</table>\n",
              "</div>"
            ],
            "text/plain": [
              "    Folder       Id   Field  ...         Ruin       Saturation    class\n",
              "0  Unload1  1000001  Field6  ...  не разрушен  нефтенасыщенные      oil\n",
              "1  Unload1  1000003  Field6  ...  не разрушен  нефтенасыщенные      oil\n",
              "2  Unload1  1000005  Field6  ...  не разрушен        не опред.  unknown\n",
              "3  Unload1  1000007  Field6  ...  не разрушен        не опред.  unknown\n",
              "4  Unload1  1000009  Field6  ...  не разрушен        не опред.  unknown\n",
              "\n",
              "[5 rows x 19 columns]"
            ]
          },
          "metadata": {
            "tags": []
          },
          "execution_count": 28
        }
      ]
    },
    {
      "cell_type": "markdown",
      "metadata": {
        "id": "fHdQGVxAw8Qf",
        "colab_type": "text"
      },
      "source": [
        "Проверка актуальности таблицы"
      ]
    },
    {
      "cell_type": "code",
      "metadata": {
        "colab_type": "code",
        "id": "tMepgLif6miu",
        "colab": {}
      },
      "source": [
        "def check(data):\n",
        "  for i in data.index:\n",
        "    img_name=data.loc[i, 'Folder']+'/data/'+str(data.loc[i, 'Id'])+'.jpeg'\n",
        "\n",
        "    #plt.figure()\n",
        "    to_drop = []\n",
        "    if not os.path.isfile(os.path.join(path, img_name)):\n",
        "      to_drop.append(i)\n",
        "      print(\"No image \" + img_name)\n",
        "    #plt.show()\n"
      ],
      "execution_count": 0,
      "outputs": []
    },
    {
      "cell_type": "code",
      "metadata": {
        "id": "ymA1b_TH7F_g",
        "colab_type": "code",
        "colab": {}
      },
      "source": [
        "check(data_dc)\n"
      ],
      "execution_count": 0,
      "outputs": []
    },
    {
      "cell_type": "code",
      "metadata": {
        "id": "V3EX4G_JEFUn",
        "colab_type": "code",
        "colab": {}
      },
      "source": [
        "check(data_uf)"
      ],
      "execution_count": 0,
      "outputs": []
    },
    {
      "cell_type": "markdown",
      "metadata": {
        "id": "0AQxfOql_fJ2",
        "colab_type": "text"
      },
      "source": [
        "##Создание датасета"
      ]
    },
    {
      "cell_type": "code",
      "metadata": {
        "id": "VYAPqVU7wAM0",
        "colab_type": "code",
        "colab": {}
      },
      "source": [
        "class KernDataset(Dataset):\n",
        "    \"\"\"Kern dataset.\"\"\"\n",
        "\n",
        "    def __init__(self, csv_file, root_dir, transform=None):\n",
        "        \"\"\"\n",
        "        Args:\n",
        "            csv_file (string): Path to the csv file with annotations.\n",
        "            root_dir (string): Directory with all the images.\n",
        "            transform (callable, optional): Optional transform to be applied\n",
        "                on a sample.\n",
        "        \"\"\"\n",
        "        self.data = pd.read_csv(csv_file)\n",
        "        self.labels_path = csv_file\n",
        "        self.root_dir = root_dir\n",
        "        self.transform = transform\n",
        "\n",
        "    def __len__(self):\n",
        "        return len(self.data)\n",
        "\n",
        "    def __getitem__(self, idx):\n",
        "        #print(csv_file)\n",
        "        img_name = os.path.join(self.root_dir,\n",
        "                                self.data.loc[idx, 'Folder']+'/data/'+str(self.data.loc[idx, 'Id'])+'.jpeg')\n",
        "        #print(img_name)\n",
        "        image = Image.open(img_name)\n",
        "        if self.transform:\n",
        "            image = self.transform(image)\n",
        "\n",
        "        \n",
        "        label = self.data.loc[idx, 'class']\n",
        "        sample = {'image': image, 'class_name': label}\n",
        "        return DatasetItem(image=image, label=label, id=idx, path=img_name)"
      ],
      "execution_count": 0,
      "outputs": []
    },
    {
      "cell_type": "markdown",
      "metadata": {
        "id": "FcReRcTI_lQl",
        "colab_type": "text"
      },
      "source": [
        "Заготовка на будущее?"
      ]
    },
    {
      "cell_type": "code",
      "metadata": {
        "id": "o92ZnNDsUODh",
        "colab_type": "code",
        "colab": {}
      },
      "source": [
        "'''\n",
        "class RandomCrop(object):\n",
        "    \"\"\"Crop randomly the image in a sample.\n",
        "\n",
        "    Args:\n",
        "        output_size (tuple or int): Desired output size. If int, square crop\n",
        "            is made.\n",
        "    \"\"\"\n",
        "\n",
        "    def __init__(self, output_size):\n",
        "        assert isinstance(output_size, (int, tuple))\n",
        "        if isinstance(output_size, int):\n",
        "            self.output_size = (output_size, output_size)\n",
        "        else:\n",
        "            assert len(output_size) == 2\n",
        "            self.output_size = output_size\n",
        "\n",
        "    def __call__(self, sample):\n",
        "        image, class_name = sample['image'], sample['class_name']\n",
        "\n",
        "        h = image.shape[0]\n",
        "        new_h  = self.output_size[0]\n",
        "        new_w = image.shape[1]\n",
        "\n",
        "        top = np.random.randint(0, h - new_h)\n",
        "        left = np.random.randint(0, w - new_w)\n",
        "\n",
        "        image = image[top: top + new_h,\n",
        "                      left: left + new_w]\n",
        "\n",
        "        return {'image': image, 'class_name': class_name}\n",
        "\n",
        "      \n",
        "class RandomHorizontalFlip(object):\n",
        "    \"\"\"Rescale the image in a sample to a given size.\n",
        "\n",
        "    Args:\n",
        "        output_size (tuple or int): Desired output size. If tuple, output is\n",
        "            matched to output_size. If int, smaller of image edges is matched\n",
        "            to output_size keeping aspect ratio the same.\n",
        "    \"\"\"\n",
        "\n",
        "    def __init__(self, output_size):\n",
        "        assert isinstance(output_size, (int, tuple))\n",
        "        self.output_size = output_size\n",
        "\n",
        "    def __call__(self, sample):\n",
        "        image, class_name = sample['image'], sample['class_name']\n",
        "\n",
        "        h, w = image.shape[:2]\n",
        "        if isinstance(self.output_size, int):\n",
        "            if h > w:\n",
        "                new_h, new_w = self.output_size * h / w, self.output_size\n",
        "            else:\n",
        "                new_h, new_w = self.output_size, self.output_size * w / h\n",
        "        else:\n",
        "            new_h, new_w = self.output_size\n",
        "\n",
        "        new_h, new_w = int(new_h), int(new_w)\n",
        "\n",
        "        img = transform.resize(image, (new_h, new_w))\n",
        "\n",
        "        # h and w are swapped for landmarks because for images,\n",
        "        # x and y axes are axis 1 and 0 respectively\n",
        "        landmarks = landmarks * [new_w / w, new_h / h]\n",
        "\n",
        "        return {'image': img, 'landmarks': landmarks}\n",
        "\n",
        "'''"
      ],
      "execution_count": 0,
      "outputs": []
    },
    {
      "cell_type": "code",
      "metadata": {
        "id": "LutBkES5_Cc-",
        "colab_type": "code",
        "colab": {}
      },
      "source": [
        "Transform = Callable[[Image.Image], Image.Image]\n",
        "\n",
        "\n",
        "@dataclass()\n",
        "class ItemsBatch:\n",
        "    images: torch.Tensor\n",
        "    labels: torch.Tensor\n",
        "    ids: List[int]\n",
        "    paths: List[Path]\n",
        "    items: List[\"DatasetItem\"]\n",
        "\n",
        "\n",
        "@dataclass()\n",
        "class DatasetItem:\n",
        "    image: Union[torch.Tensor, Image.Image]\n",
        "    label: int\n",
        "    id: int\n",
        "    path: Path\n",
        "\n",
        "    @classmethod\n",
        "    def collate(cls, items: Sequence[\"DatasetItem\"]) -> ItemsBatch:\n",
        "        if not isinstance(items, list):\n",
        "            items = list(items)\n",
        "        return ItemsBatch(\n",
        "            images=default_collate([item.image for item in items]),\n",
        "            labels=default_collate([item.label for item in items]),\n",
        "            ids=[item.id for item in items],\n",
        "            paths=[item.path for item in items],\n",
        "            items=items,\n",
        "        )"
      ],
      "execution_count": 0,
      "outputs": []
    },
    {
      "cell_type": "code",
      "metadata": {
        "id": "z9TpDsQpiDT9",
        "colab_type": "code",
        "colab": {}
      },
      "source": [
        "def show_batch_image(image_batch, batch_size=4, name='out.png'):\n",
        "    \"\"\"\n",
        "    Show a sample grid image which contains some sample of test set result\n",
        "    :param image_batch: The output batch of test set\n",
        "    :return: PIL image of all images of the input batch\n",
        "    \"\"\"\n",
        "\n",
        "    to_pil =  transforms.ToPILImage()\n",
        "    fs = []\n",
        "    for i in range(batch_size):\n",
        "        img = to_pil(image_batch.images[i].cpu())\n",
        "        fs.append(img)\n",
        "    x, y = fs[0].size\n",
        "    ncol = int(np.ceil(np.sqrt(batch_size)))\n",
        "    nrow = int(np.ceil(np.sqrt(batch_size)))\n",
        "    cvs = Image.new('RGB', (x * ncol, y * nrow))\n",
        "    for i in range(len(fs)):\n",
        "        px, py = x * int(i / nrow), y * (i % nrow)\n",
        "        cvs.paste((fs[i]), (px, py))\n",
        "    print(name)\n",
        "    cvs.save(name, format='png')\n",
        "    #cvs.show()\n",
        "    plt.imshow(np.asarray(cvs))\n"
      ],
      "execution_count": 0,
      "outputs": []
    },
    {
      "cell_type": "code",
      "metadata": {
        "id": "z-zPMexGmqLE",
        "colab_type": "code",
        "colab": {}
      },
      "source": [
        "transform = transforms.Compose(\n",
        "    [\n",
        "        \n",
        "        transforms.RandomResizedCrop((128,128)),\n",
        "        transforms.RandomHorizontalFlip(),\n",
        "        transforms.ToTensor(),\n",
        "        #transforms.Normalize([0.4802, 0.4481, 0.3975], [0.2302, 0.2265, 0.2262]),\n",
        "    ]\n",
        ")\n",
        "\n",
        "train_dataset_uf = KernDataset(csv_file=path+'data_1_uf.csv',\n",
        "                                    root_dir=path, transform=transform)\n",
        "\n",
        "train_dataset_dc = KernDataset(csv_file=path+'data_1_dc.csv',\n",
        "                                    root_dir=path, transform=transform)\n",
        "\n",
        "\n",
        "train_loader_uf = torch.utils.data.DataLoader(\n",
        "    train_dataset_uf,\n",
        "    batch_size=4,\n",
        "    shuffle=True,\n",
        "    collate_fn=DatasetItem.collate,\n",
        "    num_workers=4,\n",
        ")\n",
        "\n",
        "train_loader_dc = torch.utils.data.DataLoader(\n",
        "    train_dataset_dc,\n",
        "    batch_size=4,\n",
        "    shuffle=True,\n",
        "    collate_fn=DatasetItem.collate,\n",
        "    num_workers=4,\n",
        ")"
      ],
      "execution_count": 0,
      "outputs": []
    },
    {
      "cell_type": "markdown",
      "metadata": {
        "id": "iblvOSwbER3S",
        "colab_type": "text"
      },
      "source": [
        "Проверка, правильно ли считываются картинки"
      ]
    },
    {
      "cell_type": "code",
      "metadata": {
        "id": "elCVGGx-iSlC",
        "colab_type": "code",
        "outputId": "658d65fb-5439-49a4-952a-59d997702e23",
        "colab": {
          "base_uri": "https://localhost:8080/",
          "height": 285
        }
      },
      "source": [
        "show_batch_image(next(iter(train_loader_uf)))\n"
      ],
      "execution_count": 41,
      "outputs": [
        {
          "output_type": "stream",
          "text": [
            "out.png\n"
          ],
          "name": "stdout"
        },
        {
          "output_type": "display_data",
          "data": {
            "image/png": "[encoded data removed]",
            "text/plain": [
              "<Figure size 432x288 with 1 Axes>"
            ]
          },
          "metadata": {
            "tags": []
          }
        }
      ]
    },
    {
      "cell_type": "code",
      "metadata": {
        "id": "-B7HmYDt0DUO",
        "colab_type": "code",
        "colab": {}
      },
      "source": [
        "def train(model, device, train_loader, optimizer, loss_function, epoch, writer):\n",
        "    model.train()\n",
        "    model.to(device)\n",
        "    correct = 0\n",
        "    for batch_idx, batch_data in enumerate(tqdm(train_loader)):\n",
        "        data, target = batch_data.images.to(device), batch_data.labels.to(device)\n",
        "        optimizer.zero_grad()\n",
        "        output = model(data)\n",
        "        loss = loss_function(output, target)\n",
        "        loss.backward()\n",
        "        optimizer.step()\n",
        "        pred = output.argmax(dim=1, keepdim=True)\n",
        "        correct += pred.eq(target.view_as(pred)).sum().item()\n",
        "    print(\n",
        "        \"Train Epoch: {} [ ({:.0f}%)]\\tLoss: {:.6f}\".format(\n",
        "            epoch, 100.0 * correct / len(train_loader.dataset), loss.item()\n",
        "        )\n",
        "    )\n",
        "    writer.add_scalar(\"train_loss_plot\", loss.item(), global_step=epoch)\n",
        "    writer.add_scalar(\n",
        "        \"train_accuracy_plot\",\n",
        "        100.0 * correct / len(train_loader.dataset),\n",
        "        global_step=epoch,\n",
        "    )\n",
        "\n",
        "\n",
        "def test(model, device, test_loader, loss_function, epoch, writer):\n",
        "    model.eval()\n",
        "    model.to(device)\n",
        "    test_loss = 0\n",
        "    correct = 0\n",
        "    with torch.no_grad():\n",
        "        for idx, batch_data in enumerate(tqdm(test_loader)):\n",
        "            data, target = batch_data.images.to(device), batch_data.labels.to(device)\n",
        "            output = model(data)\n",
        "            test_loss += loss_function(output, target).sum().item()\n",
        "            pred = output.argmax(dim=1, keepdim=True)\n",
        "            correct += pred.eq(target.view_as(pred)).sum().item()\n",
        "\n",
        "    test_loss /= len(test_loader.dataset)\n",
        "\n",
        "    print(\n",
        "        \"\\nTest set: Average loss: {:.4f}, Accuracy: {}/{} ({:.0f}%)\\n\".format(\n",
        "            test_loss,\n",
        "            correct,\n",
        "            len(test_loader.dataset),\n",
        "            100.0 * correct / len(test_loader.dataset),\n",
        "        )\n",
        "    )\n",
        "    writer.add_scalar(\"test_loss_plot\", test_loss, global_step=epoch)\n",
        "    writer.add_scalar(\n",
        "        \"test_accuracy_plot\",\n",
        "        100.0 * correct / len(test_loader.dataset),\n",
        "        global_step=epoch,\n",
        "    )"
      ],
      "execution_count": 0,
      "outputs": []
    },
    {
      "cell_type": "code",
      "metadata": {
        "id": "QjWCNsgonuPG",
        "colab_type": "code",
        "colab": {}
      },
      "source": [
        "model = models.resnet18()\n",
        "model.fc = nn.Linear(512, 2)\n",
        "model = model.to(0)\n",
        "\n",
        "optimizer = optim.SGD(model.parameters(), lr=1e-3)\n",
        "\n",
        "loss_function = loss.CrossEntropyLoss()"
      ],
      "execution_count": 0,
      "outputs": []
    },
    {
      "cell_type": "code",
      "metadata": {
        "id": "Ai2zVRGpLHIV",
        "colab_type": "code",
        "colab": {
          "base_uri": "https://localhost:8080/",
          "height": 354
        },
        "outputId": "4a9e5712-9ff6-49da-cb39-c83cfddaa3f4"
      },
      "source": [
        "!pip install tensorboardX\n",
        "from tensorflow import summary"
      ],
      "execution_count": 55,
      "outputs": [
        {
          "output_type": "stream",
          "text": [
            "Collecting tensorboardX\n",
            "\u001b[?25l  Downloading https://files.pythonhosted.org/packages/a6/5c/e918d9f190baab8d55bad52840d8091dd5114cc99f03eaa6d72d404503cc/tensorboardX-1.9-py2.py3-none-any.whl (190kB)\n",
            "\u001b[K     |████████████████████████████████| 194kB 2.8MB/s \n",
            "\u001b[?25hRequirement already satisfied: numpy in /usr/local/lib/python3.6/dist-packages (from tensorboardX) (1.16.5)\n",
            "Requirement already satisfied: six in /usr/local/lib/python3.6/dist-packages (from tensorboardX) (1.12.0)\n",
            "Collecting protobuf>=3.8.0 (from tensorboardX)\n",
            "\u001b[?25l  Downloading https://files.pythonhosted.org/packages/a8/52/d8d2dbff74b8bf517c42db8d44c3f9ef6555e6f5d6caddfa3f207b9143df/protobuf-3.10.0-cp36-cp36m-manylinux1_x86_64.whl (1.3MB)\n",
            "\u001b[K     |████████████████████████████████| 1.3MB 38.5MB/s \n",
            "\u001b[?25hRequirement already satisfied: setuptools in /usr/local/lib/python3.6/dist-packages (from protobuf>=3.8.0->tensorboardX) (41.2.0)\n",
            "Installing collected packages: protobuf, tensorboardX\n",
            "  Found existing installation: protobuf 3.7.1\n",
            "    Uninstalling protobuf-3.7.1:\n",
            "      Successfully uninstalled protobuf-3.7.1\n",
            "Successfully installed protobuf-3.10.0 tensorboardX-1.9\n"
          ],
          "name": "stdout"
        },
        {
          "output_type": "display_data",
          "data": {
            "application/vnd.colab-display-data+json": {
              "pip_warning": {
                "packages": [
                  "google"
                ]
              }
            }
          },
          "metadata": {
            "tags": []
          }
        }
      ]
    },
    {
      "cell_type": "code",
      "metadata": {
        "id": "-WLZBHyBMY0e",
        "colab_type": "code",
        "colab": {
          "base_uri": "https://localhost:8080/",
          "height": 50
        },
        "outputId": "0b0301f3-cd2e-41b1-c825-08a9e928fbd8"
      },
      "source": [
        "%load_ext tensorboard"
      ],
      "execution_count": 56,
      "outputs": [
        {
          "output_type": "stream",
          "text": [
            "The tensorboard extension is already loaded. To reload it, use:\n",
            "  %reload_ext tensorboard\n"
          ],
          "name": "stdout"
        }
      ]
    },
    {
      "cell_type": "code",
      "metadata": {
        "id": "9crEZZMAM-jr",
        "colab_type": "code",
        "colab": {}
      },
      "source": [
        "import datetime"
      ],
      "execution_count": 0,
      "outputs": []
    },
    {
      "cell_type": "code",
      "metadata": {
        "id": "OSvs54JnLzo1",
        "colab_type": "code",
        "colab": {}
      },
      "source": [
        "current_time = str(datetime.datetime.now().timestamp())\n",
        "train_log_dir = path+'logs/tensorboard/train/' + current_time\n",
        "test_log_dir = path+'logs/tensorboard/test/' + current_time\n",
        "train_writer = SummaryWriter(train_log_dir)\n",
        "test_summary_writer =  SummaryWriter(test_log_dir)"
      ],
      "execution_count": 0,
      "outputs": []
    },
    {
      "cell_type": "code",
      "metadata": {
        "id": "DMNN8ihBLzwh",
        "colab_type": "code",
        "colab": {
          "base_uri": "https://localhost:8080/",
          "height": 403
        },
        "outputId": "e68b823f-5c3f-40dd-b608-e593b6c8d464"
      },
      "source": [
        "tensorboard --logdir train_log_dir"
      ],
      "execution_count": 62,
      "outputs": [
        {
          "output_type": "display_data",
          "data": {
            "text/plain": [
              "ERROR: Failed to launch TensorBoard (exited with 1).\n",
              "Contents of stderr:\n",
              "Traceback (most recent call last):\n",
              "  File \"/usr/local/bin/tensorboard\", line 10, in <module>\n",
              "    sys.exit(run_main())\n",
              "  File \"/usr/local/lib/python3.6/dist-packages/tensorboard/main.py\", line 64, in run_main\n",
              "    app.run(tensorboard.main, flags_parser=tensorboard.configure)\n",
              "  File \"/usr/local/lib/python3.6/dist-packages/absl/app.py\", line 299, in run\n",
              "    _run_main(main, args)\n",
              "  File \"/usr/local/lib/python3.6/dist-packages/absl/app.py\", line 250, in _run_main\n",
              "    sys.exit(main(argv))\n",
              "  File \"/usr/local/lib/python3.6/dist-packages/tensorboard/program.py\", line 220, in main\n",
              "    server = self._make_server()\n",
              "  File \"/usr/local/lib/python3.6/dist-packages/tensorboard/program.py\", line 299, in _make_server\n",
              "    self.assets_zip_provider)\n",
              "  File \"/usr/local/lib/python3.6/dist-packages/tensorboard/backend/application.py\", line 160, in standard_tensorboard_wsgi\n",
              "    flags, plugin_loaders, data_provider, assets_zip_provider, multiplexer)\n",
              "  File \"/usr/local/lib/python3.6/dist-packages/tensorboard/backend/application.py\", line 228, in TensorBoardWSGIApp\n",
              "    return TensorBoardWSGI(tbplugins, flags.path_prefix)\n",
              "  File \"/usr/local/lib/python3.6/dist-packages/tensorboard/backend/application.py\", line 279, in __init__\n",
              "    raise ValueError('Duplicate plugins for name %s' % plugin.plugin_name)\n",
              "ValueError: Duplicate plugins for name projector"
            ]
          },
          "metadata": {
            "tags": []
          }
        }
      ]
    },
    {
      "cell_type": "code",
      "metadata": {
        "id": "RF-ed-NmN6Ls",
        "colab_type": "code",
        "colab": {}
      },
      "source": [
        "tensorboard --logdir runs --port 6007"
      ],
      "execution_count": 0,
      "outputs": []
    },
    {
      "cell_type": "code",
      "metadata": {
        "id": "jjxc5shwOXNp",
        "colab_type": "code",
        "colab": {}
      },
      "source": [
        "ssh -X -L 16006:127.0.0.1:6007 cosmos@my_server_ip"
      ],
      "execution_count": 0,
      "outputs": []
    }
  ]
}