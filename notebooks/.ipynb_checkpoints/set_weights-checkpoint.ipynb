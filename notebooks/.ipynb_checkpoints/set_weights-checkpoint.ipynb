{
 "cells": [
  {
   "cell_type": "code",
   "execution_count": 1,
   "metadata": {},
   "outputs": [],
   "source": [
    "import pandas as pd"
   ]
  },
  {
   "cell_type": "code",
   "execution_count": 100,
   "metadata": {},
   "outputs": [],
   "source": [
    "uf = pd.read_csv(\"../data/train_data_uf.csv\")"
   ]
  },
  {
   "cell_type": "code",
   "execution_count": 101,
   "metadata": {},
   "outputs": [],
   "source": [
    "dc = pd.read_csv(\"../data/train_data_dc.csv\")"
   ]
  },
  {
   "cell_type": "code",
   "execution_count": 102,
   "metadata": {},
   "outputs": [
    {
     "data": {
      "text/html": [
       "<div>\n",
       "<style scoped>\n",
       "    .dataframe tbody tr th:only-of-type {\n",
       "        vertical-align: middle;\n",
       "    }\n",
       "\n",
       "    .dataframe tbody tr th {\n",
       "        vertical-align: top;\n",
       "    }\n",
       "\n",
       "    .dataframe thead th {\n",
       "        text-align: right;\n",
       "    }\n",
       "</style>\n",
       "<table border=\"1\" class=\"dataframe\">\n",
       "  <thead>\n",
       "    <tr style=\"text-align: right;\">\n",
       "      <th></th>\n",
       "      <th>Folder</th>\n",
       "      <th>Id</th>\n",
       "      <th>Field</th>\n",
       "      <th>Well</th>\n",
       "      <th>CoringTop</th>\n",
       "      <th>CoringDown</th>\n",
       "      <th>CoringTopBind</th>\n",
       "      <th>CoringDownBind</th>\n",
       "      <th>CoreRecovery</th>\n",
       "      <th>PhotoTop</th>\n",
       "      <th>PhotoDown</th>\n",
       "      <th>PhotoType</th>\n",
       "      <th>LayerTop</th>\n",
       "      <th>LayerDown</th>\n",
       "      <th>Rock</th>\n",
       "      <th>Carbonate</th>\n",
       "      <th>Ruin</th>\n",
       "      <th>Saturation</th>\n",
       "      <th>class</th>\n",
       "      <th>weight</th>\n",
       "    </tr>\n",
       "  </thead>\n",
       "  <tbody>\n",
       "    <tr>\n",
       "      <th>0</th>\n",
       "      <td>Unload2</td>\n",
       "      <td>1001901</td>\n",
       "      <td>Field1</td>\n",
       "      <td>Well3</td>\n",
       "      <td>2621.0</td>\n",
       "      <td>2638.0</td>\n",
       "      <td>2624.0</td>\n",
       "      <td>2641.0</td>\n",
       "      <td>16.85</td>\n",
       "      <td>2.93</td>\n",
       "      <td>3.91</td>\n",
       "      <td>УФ</td>\n",
       "      <td>2.63</td>\n",
       "      <td>5.34</td>\n",
       "      <td>песчаник</td>\n",
       "      <td>с карбонатными обломками или конкрециями</td>\n",
       "      <td>частично разрушен</td>\n",
       "      <td>нефтенасыщенные</td>\n",
       "      <td>1</td>\n",
       "      <td>0.000917</td>\n",
       "    </tr>\n",
       "    <tr>\n",
       "      <th>1</th>\n",
       "      <td>Unload1</td>\n",
       "      <td>1001161</td>\n",
       "      <td>Field3</td>\n",
       "      <td>Well12</td>\n",
       "      <td>3175.1</td>\n",
       "      <td>3181.1</td>\n",
       "      <td>3176.3</td>\n",
       "      <td>3182.3</td>\n",
       "      <td>5.98</td>\n",
       "      <td>1.00</td>\n",
       "      <td>1.45</td>\n",
       "      <td>УФ</td>\n",
       "      <td>0.90</td>\n",
       "      <td>1.45</td>\n",
       "      <td>пересл. песчаника, алевролита и глин</td>\n",
       "      <td>с примесью</td>\n",
       "      <td>не разрушен</td>\n",
       "      <td>не опред.</td>\n",
       "      <td>0</td>\n",
       "      <td>0.001239</td>\n",
       "    </tr>\n",
       "    <tr>\n",
       "      <th>2</th>\n",
       "      <td>Unload1</td>\n",
       "      <td>1001305</td>\n",
       "      <td>Field3</td>\n",
       "      <td>Well12</td>\n",
       "      <td>3252.0</td>\n",
       "      <td>3263.0</td>\n",
       "      <td>3253.5</td>\n",
       "      <td>3264.5</td>\n",
       "      <td>10.92</td>\n",
       "      <td>0.00</td>\n",
       "      <td>1.00</td>\n",
       "      <td>УФ</td>\n",
       "      <td>0.00</td>\n",
       "      <td>4.04</td>\n",
       "      <td>алевролит</td>\n",
       "      <td>слабокарбонатный</td>\n",
       "      <td>не разрушен</td>\n",
       "      <td>не опред.</td>\n",
       "      <td>0</td>\n",
       "      <td>0.001490</td>\n",
       "    </tr>\n",
       "    <tr>\n",
       "      <th>3</th>\n",
       "      <td>Unload1</td>\n",
       "      <td>1001475</td>\n",
       "      <td>Field3</td>\n",
       "      <td>Well9</td>\n",
       "      <td>798.0</td>\n",
       "      <td>805.0</td>\n",
       "      <td>798.7</td>\n",
       "      <td>805.7</td>\n",
       "      <td>6.90</td>\n",
       "      <td>6.72</td>\n",
       "      <td>6.90</td>\n",
       "      <td>УФ</td>\n",
       "      <td>6.72</td>\n",
       "      <td>6.90</td>\n",
       "      <td>алевро-аргиллит</td>\n",
       "      <td>не карбонатный</td>\n",
       "      <td>не разрушен</td>\n",
       "      <td>не опред.</td>\n",
       "      <td>0</td>\n",
       "      <td>0.001809</td>\n",
       "    </tr>\n",
       "    <tr>\n",
       "      <th>4</th>\n",
       "      <td>Unload2</td>\n",
       "      <td>1001097</td>\n",
       "      <td>Field8</td>\n",
       "      <td>Well14</td>\n",
       "      <td>2781.0</td>\n",
       "      <td>2799.0</td>\n",
       "      <td>2782.1</td>\n",
       "      <td>2800.1</td>\n",
       "      <td>17.99</td>\n",
       "      <td>15.98</td>\n",
       "      <td>16.99</td>\n",
       "      <td>УФ</td>\n",
       "      <td>12.00</td>\n",
       "      <td>17.81</td>\n",
       "      <td>кремнисто-глинистая порода</td>\n",
       "      <td>не карбонатный</td>\n",
       "      <td>не разрушен</td>\n",
       "      <td>битуминозный</td>\n",
       "      <td>2</td>\n",
       "      <td>0.001274</td>\n",
       "    </tr>\n",
       "  </tbody>\n",
       "</table>\n",
       "</div>"
      ],
      "text/plain": [
       "    Folder       Id   Field    Well  CoringTop  CoringDown  CoringTopBind  \\\n",
       "0  Unload2  1001901  Field1   Well3     2621.0      2638.0         2624.0   \n",
       "1  Unload1  1001161  Field3  Well12     3175.1      3181.1         3176.3   \n",
       "2  Unload1  1001305  Field3  Well12     3252.0      3263.0         3253.5   \n",
       "3  Unload1  1001475  Field3   Well9      798.0       805.0          798.7   \n",
       "4  Unload2  1001097  Field8  Well14     2781.0      2799.0         2782.1   \n",
       "\n",
       "   CoringDownBind  CoreRecovery  PhotoTop  PhotoDown PhotoType  LayerTop  \\\n",
       "0          2641.0         16.85      2.93       3.91        УФ      2.63   \n",
       "1          3182.3          5.98      1.00       1.45        УФ      0.90   \n",
       "2          3264.5         10.92      0.00       1.00        УФ      0.00   \n",
       "3           805.7          6.90      6.72       6.90        УФ      6.72   \n",
       "4          2800.1         17.99     15.98      16.99        УФ     12.00   \n",
       "\n",
       "   LayerDown                                  Rock  \\\n",
       "0       5.34                              песчаник   \n",
       "1       1.45  пересл. песчаника, алевролита и глин   \n",
       "2       4.04                             алевролит   \n",
       "3       6.90                       алевро-аргиллит   \n",
       "4      17.81            кремнисто-глинистая порода   \n",
       "\n",
       "                                  Carbonate               Ruin  \\\n",
       "0  с карбонатными обломками или конкрециями  частично разрушен   \n",
       "1                                с примесью        не разрушен   \n",
       "2                          слабокарбонатный        не разрушен   \n",
       "3                            не карбонатный        не разрушен   \n",
       "4                            не карбонатный        не разрушен   \n",
       "\n",
       "        Saturation  class    weight  \n",
       "0  нефтенасыщенные      1  0.000917  \n",
       "1        не опред.      0  0.001239  \n",
       "2        не опред.      0  0.001490  \n",
       "3        не опред.      0  0.001809  \n",
       "4     битуминозный      2  0.001274  "
      ]
     },
     "execution_count": 102,
     "metadata": {},
     "output_type": "execute_result"
    }
   ],
   "source": [
    "uf.head()"
   ]
  },
  {
   "cell_type": "code",
   "execution_count": 4,
   "metadata": {},
   "outputs": [],
   "source": [
    "classes = pd.read_csv(\"../data/train_classes.csv\")"
   ]
  },
  {
   "cell_type": "code",
   "execution_count": 6,
   "metadata": {},
   "outputs": [
    {
     "name": "stdout",
     "output_type": "stream",
     "text": [
      "6_channel_transfer.ipynb      autoencoder.ipynb    to_train_test.ipynb\r\n",
      "6_channel_transfer_SVM.ipynb  hyper_opt.ipynb      train-Copy1.ipynb\r\n",
      "EDA.ipynb                     rn18-1e-3.ipynb      train-Copy2.ipynb\r\n",
      "Untitled.ipynb                rn18-1e-5.ipynb      train.ipynb\r\n",
      "autoencoder-big-1.ipynb       rn18-ft.ipynb        transfer_baseline.ipynb\r\n",
      "autoencoder-big-2.ipynb       to_multiclass.ipynb  \u001b[0m\u001b[01;34mwandb\u001b[0m/\r\n"
     ]
    }
   ],
   "source": [
    "ls\n"
   ]
  },
  {
   "cell_type": "code",
   "execution_count": 7,
   "metadata": {},
   "outputs": [
    {
     "data": {
      "text/html": [
       "<div>\n",
       "<style scoped>\n",
       "    .dataframe tbody tr th:only-of-type {\n",
       "        vertical-align: middle;\n",
       "    }\n",
       "\n",
       "    .dataframe tbody tr th {\n",
       "        vertical-align: top;\n",
       "    }\n",
       "\n",
       "    .dataframe thead th {\n",
       "        text-align: right;\n",
       "    }\n",
       "</style>\n",
       "<table border=\"1\" class=\"dataframe\">\n",
       "  <thead>\n",
       "    <tr style=\"text-align: right;\">\n",
       "      <th></th>\n",
       "      <th>алевролит</th>\n",
       "      <th>аргиллит</th>\n",
       "      <th>глина</th>\n",
       "      <th>другое</th>\n",
       "      <th>карбонатная порода</th>\n",
       "      <th>кремнистая порода</th>\n",
       "      <th>переслой</th>\n",
       "      <th>песчаник</th>\n",
       "    </tr>\n",
       "  </thead>\n",
       "  <tbody>\n",
       "    <tr>\n",
       "      <th>0</th>\n",
       "      <td>0</td>\n",
       "      <td>0</td>\n",
       "      <td>0</td>\n",
       "      <td>0</td>\n",
       "      <td>0</td>\n",
       "      <td>0</td>\n",
       "      <td>0</td>\n",
       "      <td>1</td>\n",
       "    </tr>\n",
       "    <tr>\n",
       "      <th>1</th>\n",
       "      <td>1</td>\n",
       "      <td>0</td>\n",
       "      <td>1</td>\n",
       "      <td>0</td>\n",
       "      <td>0</td>\n",
       "      <td>0</td>\n",
       "      <td>1</td>\n",
       "      <td>1</td>\n",
       "    </tr>\n",
       "    <tr>\n",
       "      <th>2</th>\n",
       "      <td>1</td>\n",
       "      <td>0</td>\n",
       "      <td>0</td>\n",
       "      <td>0</td>\n",
       "      <td>0</td>\n",
       "      <td>0</td>\n",
       "      <td>0</td>\n",
       "      <td>0</td>\n",
       "    </tr>\n",
       "    <tr>\n",
       "      <th>3</th>\n",
       "      <td>1</td>\n",
       "      <td>1</td>\n",
       "      <td>0</td>\n",
       "      <td>0</td>\n",
       "      <td>0</td>\n",
       "      <td>0</td>\n",
       "      <td>0</td>\n",
       "      <td>0</td>\n",
       "    </tr>\n",
       "    <tr>\n",
       "      <th>4</th>\n",
       "      <td>0</td>\n",
       "      <td>0</td>\n",
       "      <td>1</td>\n",
       "      <td>0</td>\n",
       "      <td>0</td>\n",
       "      <td>1</td>\n",
       "      <td>0</td>\n",
       "      <td>0</td>\n",
       "    </tr>\n",
       "  </tbody>\n",
       "</table>\n",
       "</div>"
      ],
      "text/plain": [
       "   алевролит  аргиллит  глина  другое  карбонатная порода  кремнистая порода  \\\n",
       "0          0         0      0       0                   0                  0   \n",
       "1          1         0      1       0                   0                  0   \n",
       "2          1         0      0       0                   0                  0   \n",
       "3          1         1      0       0                   0                  0   \n",
       "4          0         0      1       0                   0                  1   \n",
       "\n",
       "   переслой  песчаник  \n",
       "0         0         1  \n",
       "1         1         1  \n",
       "2         0         0  \n",
       "3         0         0  \n",
       "4         0         0  "
      ]
     },
     "execution_count": 7,
     "metadata": {},
     "output_type": "execute_result"
    }
   ],
   "source": [
    "classes.head()"
   ]
  },
  {
   "cell_type": "code",
   "execution_count": 5,
   "metadata": {},
   "outputs": [],
   "source": [
    "weights = uf.Rock.value_counts()"
   ]
  },
  {
   "cell_type": "code",
   "execution_count": 9,
   "metadata": {},
   "outputs": [
    {
     "data": {
      "text/plain": [
       "алевролит              671\n",
       "аргиллит               470\n",
       "глина                  326\n",
       "другое                  33\n",
       "карбонатная порода      22\n",
       "кремнистая порода      116\n",
       "переслой               288\n",
       "песчаник              1090\n",
       "dtype: int64"
      ]
     },
     "execution_count": 9,
     "metadata": {},
     "output_type": "execute_result"
    }
   ],
   "source": [
    "weights"
   ]
  },
  {
   "cell_type": "code",
   "execution_count": 7,
   "metadata": {},
   "outputs": [
    {
     "data": {
      "text/html": [
       "<div>\n",
       "<style scoped>\n",
       "    .dataframe tbody tr th:only-of-type {\n",
       "        vertical-align: middle;\n",
       "    }\n",
       "\n",
       "    .dataframe tbody tr th {\n",
       "        vertical-align: top;\n",
       "    }\n",
       "\n",
       "    .dataframe thead th {\n",
       "        text-align: right;\n",
       "    }\n",
       "</style>\n",
       "<table border=\"1\" class=\"dataframe\">\n",
       "  <thead>\n",
       "    <tr style=\"text-align: right;\">\n",
       "      <th></th>\n",
       "      <th>алевролит</th>\n",
       "      <th>аргиллит</th>\n",
       "      <th>глина</th>\n",
       "      <th>другое</th>\n",
       "      <th>карбонатная порода</th>\n",
       "      <th>кремнистая порода</th>\n",
       "      <th>переслой</th>\n",
       "      <th>песчаник</th>\n",
       "    </tr>\n",
       "  </thead>\n",
       "  <tbody>\n",
       "    <tr>\n",
       "      <th>0</th>\n",
       "      <td>0</td>\n",
       "      <td>0</td>\n",
       "      <td>0</td>\n",
       "      <td>0</td>\n",
       "      <td>0</td>\n",
       "      <td>0</td>\n",
       "      <td>0</td>\n",
       "      <td>1</td>\n",
       "    </tr>\n",
       "    <tr>\n",
       "      <th>1</th>\n",
       "      <td>1</td>\n",
       "      <td>0</td>\n",
       "      <td>1</td>\n",
       "      <td>0</td>\n",
       "      <td>0</td>\n",
       "      <td>0</td>\n",
       "      <td>1</td>\n",
       "      <td>1</td>\n",
       "    </tr>\n",
       "    <tr>\n",
       "      <th>2</th>\n",
       "      <td>1</td>\n",
       "      <td>0</td>\n",
       "      <td>0</td>\n",
       "      <td>0</td>\n",
       "      <td>0</td>\n",
       "      <td>0</td>\n",
       "      <td>0</td>\n",
       "      <td>0</td>\n",
       "    </tr>\n",
       "    <tr>\n",
       "      <th>3</th>\n",
       "      <td>1</td>\n",
       "      <td>1</td>\n",
       "      <td>0</td>\n",
       "      <td>0</td>\n",
       "      <td>0</td>\n",
       "      <td>0</td>\n",
       "      <td>0</td>\n",
       "      <td>0</td>\n",
       "    </tr>\n",
       "    <tr>\n",
       "      <th>4</th>\n",
       "      <td>0</td>\n",
       "      <td>0</td>\n",
       "      <td>1</td>\n",
       "      <td>0</td>\n",
       "      <td>0</td>\n",
       "      <td>1</td>\n",
       "      <td>0</td>\n",
       "      <td>0</td>\n",
       "    </tr>\n",
       "  </tbody>\n",
       "</table>\n",
       "</div>"
      ],
      "text/plain": [
       "   алевролит  аргиллит  глина  другое  карбонатная порода  кремнистая порода  \\\n",
       "0          0         0      0       0                   0                  0   \n",
       "1          1         0      1       0                   0                  0   \n",
       "2          1         0      0       0                   0                  0   \n",
       "3          1         1      0       0                   0                  0   \n",
       "4          0         0      1       0                   0                  1   \n",
       "\n",
       "   переслой  песчаник  \n",
       "0         0         1  \n",
       "1         1         1  \n",
       "2         0         0  \n",
       "3         0         0  \n",
       "4         0         0  "
      ]
     },
     "execution_count": 7,
     "metadata": {},
     "output_type": "execute_result"
    }
   ],
   "source": [
    "classes.head()"
   ]
  },
  {
   "cell_type": "code",
   "execution_count": 8,
   "metadata": {},
   "outputs": [],
   "source": [
    "weights = classes.sum()"
   ]
  },
  {
   "cell_type": "code",
   "execution_count": 93,
   "metadata": {},
   "outputs": [],
   "source": [
    "weights\n",
    "weights_reduced = {}\n",
    "for  i,j in weights.items():\n",
    "    if i in ['алевролит', 'аргиллит', 'песчаник', 'другое']:\n",
    "        weights_reduced[i] = j\n",
    "    if i=='песчаник':\n",
    "        weights_reduced[i] = j*2\n",
    "        \n",
    "for  i,j in weights.items():\n",
    "    if i not in ['алевролит', 'аргиллит', 'песчаник', 'другое']:\n",
    "        weights_reduced['другое']+=j"
   ]
  },
  {
   "cell_type": "code",
   "execution_count": 94,
   "metadata": {},
   "outputs": [
    {
     "data": {
      "text/plain": [
       "{'алевролит': 671, 'аргиллит': 470, 'другое': 785, 'песчаник': 1090}"
      ]
     },
     "execution_count": 94,
     "metadata": {},
     "output_type": "execute_result"
    }
   ],
   "source": [
    "weights_reduced"
   ]
  },
  {
   "cell_type": "code",
   "execution_count": 95,
   "metadata": {},
   "outputs": [],
   "source": [
    "weights_list = {}\n",
    "for i, j in (classes.sum().items()):\n",
    "    #if i=='карбонатная порода' or i=='другое':\n",
    "    #    weights_list[i]=1\n",
    "    #else:     \n",
    "    if i in weights_reduced.keys():\n",
    "        weights_list[i]=classes.sum().sum()/weights_reduced[i]\n",
    "    else:\n",
    "        weights_list[i]=classes.sum().sum()/weights_reduced['другое']"
   ]
  },
  {
   "cell_type": "code",
   "execution_count": 71,
   "metadata": {},
   "outputs": [
    {
     "data": {
      "text/plain": [
       "{'алевролит': 0.0014903129657228018,\n",
       " 'аргиллит': 0.002127659574468085,\n",
       " 'глина': 0.0012738853503184713,\n",
       " 'другое': 0.0012738853503184713,\n",
       " 'карбонатная порода': 0.0012738853503184713,\n",
       " 'кремнистая порода': 0.0012738853503184713,\n",
       " 'переслой': 0.0012738853503184713,\n",
       " 'песчаник': 0.00045871559633027525}"
      ]
     },
     "execution_count": 71,
     "metadata": {},
     "output_type": "execute_result"
    }
   ],
   "source": [
    "weights_list"
   ]
  },
  {
   "cell_type": "code",
   "execution_count": 72,
   "metadata": {},
   "outputs": [],
   "source": [
    "import numpy as np"
   ]
  },
  {
   "cell_type": "code",
   "execution_count": 73,
   "metadata": {},
   "outputs": [
    {
     "data": {
      "text/plain": [
       "0.00130576436101419"
      ]
     },
     "execution_count": 73,
     "metadata": {},
     "output_type": "execute_result"
    }
   ],
   "source": [
    "np.array(list(weights_list.values())).mean()\n"
   ]
  },
  {
   "cell_type": "code",
   "execution_count": 41,
   "metadata": {},
   "outputs": [],
   "source": [
    "weights_list[\"карбонатная порода\"] = np.array(list(weights_list.values())).mean()\n",
    "weights_list[\"другое\"] = np.array(list(weights_list.values())).mean()"
   ]
  },
  {
   "cell_type": "code",
   "execution_count": 74,
   "metadata": {},
   "outputs": [
    {
     "data": {
      "text/plain": [
       "{'алевролит': 0.0014903129657228018,\n",
       " 'аргиллит': 0.002127659574468085,\n",
       " 'глина': 0.0012738853503184713,\n",
       " 'другое': 0.0012738853503184713,\n",
       " 'карбонатная порода': 0.0012738853503184713,\n",
       " 'кремнистая порода': 0.0012738853503184713,\n",
       " 'переслой': 0.0012738853503184713,\n",
       " 'песчаник': 0.00045871559633027525}"
      ]
     },
     "execution_count": 74,
     "metadata": {},
     "output_type": "execute_result"
    }
   ],
   "source": [
    "weights_list"
   ]
  },
  {
   "cell_type": "code",
   "execution_count": 96,
   "metadata": {},
   "outputs": [],
   "source": [
    "def apply_weights(data, weights_dict=weights_list):\n",
    "    weight = 0\n",
    "    weights = []\n",
    "    for i,j in data.items():\n",
    "        #print(i, weights_dict[i])  \n",
    "        if(j!=0):\n",
    "            weights.append(weights_dict[i])\n",
    "    weight = (np.mean(weights))\n",
    "    return weight"
   ]
  },
  {
   "cell_type": "code",
   "execution_count": 76,
   "metadata": {},
   "outputs": [
    {
     "name": "stdout",
     "output_type": "stream",
     "text": [
      "0.0011241998156725048\n"
     ]
    }
   ],
   "source": [
    "print(apply_weights(classes.iloc[1,], weights_list))"
   ]
  },
  {
   "cell_type": "code",
   "execution_count": 65,
   "metadata": {},
   "outputs": [
    {
     "data": {
      "text/plain": [
       "0       0.000917\n",
       "1       0.000917\n",
       "2       0.001490\n",
       "3       0.001490\n",
       "4       0.001274\n",
       "          ...   \n",
       "2084    0.000917\n",
       "2085    0.000917\n",
       "2086    0.000917\n",
       "2087    0.000917\n",
       "2088    0.000917\n",
       "Length: 2089, dtype: float64"
      ]
     },
     "execution_count": 65,
     "metadata": {},
     "output_type": "execute_result"
    }
   ],
   "source": [
    "classes.apply(apply_weights, axis=1)"
   ]
  },
  {
   "cell_type": "code",
   "execution_count": 97,
   "metadata": {},
   "outputs": [],
   "source": [
    "uf[\"weight\"]= classes.apply(apply_weights, axis=1)"
   ]
  },
  {
   "cell_type": "code",
   "execution_count": 78,
   "metadata": {},
   "outputs": [
    {
     "data": {
      "text/plain": [
       "2.766972     790\n",
       "6.417021     419\n",
       "4.494784     378\n",
       "6.746378     217\n",
       "5.911326      48\n",
       "26.000000     47\n",
       "17.625767     45\n",
       "0.000000      34\n",
       "6.009253      32\n",
       "7.834278      21\n",
       "13.000000     21\n",
       "7.128009      15\n",
       "5.455903       8\n",
       "6.873159       5\n",
       "7.226937       3\n",
       "8.444622       2\n",
       "13.035194      2\n",
       "9.251534       1\n",
       "18.236111      1\n",
       "Name: weight, dtype: int64"
      ]
     },
     "execution_count": 78,
     "metadata": {},
     "output_type": "execute_result"
    }
   ],
   "source": [
    "uf.weight.value_counts()"
   ]
  },
  {
   "cell_type": "code",
   "execution_count": 79,
   "metadata": {},
   "outputs": [],
   "source": [
    "del uf['index']"
   ]
  },
  {
   "cell_type": "code",
   "execution_count": 80,
   "metadata": {},
   "outputs": [],
   "source": [
    "del dc['index']"
   ]
  },
  {
   "cell_type": "code",
   "execution_count": 98,
   "metadata": {},
   "outputs": [],
   "source": [
    "dc[\"weight\"] = classes.apply(apply_weights, axis=1)"
   ]
  },
  {
   "cell_type": "code",
   "execution_count": 88,
   "metadata": {},
   "outputs": [
    {
     "data": {
      "text/html": [
       "<div>\n",
       "<style scoped>\n",
       "    .dataframe tbody tr th:only-of-type {\n",
       "        vertical-align: middle;\n",
       "    }\n",
       "\n",
       "    .dataframe tbody tr th {\n",
       "        vertical-align: top;\n",
       "    }\n",
       "\n",
       "    .dataframe thead th {\n",
       "        text-align: right;\n",
       "    }\n",
       "</style>\n",
       "<table border=\"1\" class=\"dataframe\">\n",
       "  <thead>\n",
       "    <tr style=\"text-align: right;\">\n",
       "      <th></th>\n",
       "      <th>Folder</th>\n",
       "      <th>Id</th>\n",
       "      <th>Field</th>\n",
       "      <th>Well</th>\n",
       "      <th>CoringTop</th>\n",
       "      <th>CoringDown</th>\n",
       "      <th>CoringTopBind</th>\n",
       "      <th>CoringDownBind</th>\n",
       "      <th>CoreRecovery</th>\n",
       "      <th>PhotoTop</th>\n",
       "      <th>PhotoDown</th>\n",
       "      <th>PhotoType</th>\n",
       "      <th>LayerTop</th>\n",
       "      <th>LayerDown</th>\n",
       "      <th>Rock</th>\n",
       "      <th>Carbonate</th>\n",
       "      <th>Ruin</th>\n",
       "      <th>Saturation</th>\n",
       "      <th>class</th>\n",
       "      <th>weight</th>\n",
       "    </tr>\n",
       "  </thead>\n",
       "  <tbody>\n",
       "    <tr>\n",
       "      <th>0</th>\n",
       "      <td>Unload2</td>\n",
       "      <td>1001901</td>\n",
       "      <td>Field1</td>\n",
       "      <td>Well3</td>\n",
       "      <td>2621.0</td>\n",
       "      <td>2638.0</td>\n",
       "      <td>2624.0</td>\n",
       "      <td>2641.0</td>\n",
       "      <td>16.85</td>\n",
       "      <td>2.93</td>\n",
       "      <td>3.91</td>\n",
       "      <td>УФ</td>\n",
       "      <td>2.63</td>\n",
       "      <td>5.34</td>\n",
       "      <td>песчаник</td>\n",
       "      <td>с карбонатными обломками или конкрециями</td>\n",
       "      <td>частично разрушен</td>\n",
       "      <td>нефтенасыщенные</td>\n",
       "      <td>1</td>\n",
       "      <td>0.000459</td>\n",
       "    </tr>\n",
       "    <tr>\n",
       "      <th>1</th>\n",
       "      <td>Unload1</td>\n",
       "      <td>1001161</td>\n",
       "      <td>Field3</td>\n",
       "      <td>Well12</td>\n",
       "      <td>3175.1</td>\n",
       "      <td>3181.1</td>\n",
       "      <td>3176.3</td>\n",
       "      <td>3182.3</td>\n",
       "      <td>5.98</td>\n",
       "      <td>1.00</td>\n",
       "      <td>1.45</td>\n",
       "      <td>УФ</td>\n",
       "      <td>0.90</td>\n",
       "      <td>1.45</td>\n",
       "      <td>пересл. песчаника, алевролита и глин</td>\n",
       "      <td>с примесью</td>\n",
       "      <td>не разрушен</td>\n",
       "      <td>не опред.</td>\n",
       "      <td>0</td>\n",
       "      <td>0.001124</td>\n",
       "    </tr>\n",
       "    <tr>\n",
       "      <th>2</th>\n",
       "      <td>Unload1</td>\n",
       "      <td>1001305</td>\n",
       "      <td>Field3</td>\n",
       "      <td>Well12</td>\n",
       "      <td>3252.0</td>\n",
       "      <td>3263.0</td>\n",
       "      <td>3253.5</td>\n",
       "      <td>3264.5</td>\n",
       "      <td>10.92</td>\n",
       "      <td>0.00</td>\n",
       "      <td>1.00</td>\n",
       "      <td>УФ</td>\n",
       "      <td>0.00</td>\n",
       "      <td>4.04</td>\n",
       "      <td>алевролит</td>\n",
       "      <td>слабокарбонатный</td>\n",
       "      <td>не разрушен</td>\n",
       "      <td>не опред.</td>\n",
       "      <td>0</td>\n",
       "      <td>0.001490</td>\n",
       "    </tr>\n",
       "    <tr>\n",
       "      <th>3</th>\n",
       "      <td>Unload1</td>\n",
       "      <td>1001475</td>\n",
       "      <td>Field3</td>\n",
       "      <td>Well9</td>\n",
       "      <td>798.0</td>\n",
       "      <td>805.0</td>\n",
       "      <td>798.7</td>\n",
       "      <td>805.7</td>\n",
       "      <td>6.90</td>\n",
       "      <td>6.72</td>\n",
       "      <td>6.90</td>\n",
       "      <td>УФ</td>\n",
       "      <td>6.72</td>\n",
       "      <td>6.90</td>\n",
       "      <td>алевро-аргиллит</td>\n",
       "      <td>не карбонатный</td>\n",
       "      <td>не разрушен</td>\n",
       "      <td>не опред.</td>\n",
       "      <td>0</td>\n",
       "      <td>0.001809</td>\n",
       "    </tr>\n",
       "    <tr>\n",
       "      <th>4</th>\n",
       "      <td>Unload2</td>\n",
       "      <td>1001097</td>\n",
       "      <td>Field8</td>\n",
       "      <td>Well14</td>\n",
       "      <td>2781.0</td>\n",
       "      <td>2799.0</td>\n",
       "      <td>2782.1</td>\n",
       "      <td>2800.1</td>\n",
       "      <td>17.99</td>\n",
       "      <td>15.98</td>\n",
       "      <td>16.99</td>\n",
       "      <td>УФ</td>\n",
       "      <td>12.00</td>\n",
       "      <td>17.81</td>\n",
       "      <td>кремнисто-глинистая порода</td>\n",
       "      <td>не карбонатный</td>\n",
       "      <td>не разрушен</td>\n",
       "      <td>битуминозный</td>\n",
       "      <td>2</td>\n",
       "      <td>0.001274</td>\n",
       "    </tr>\n",
       "  </tbody>\n",
       "</table>\n",
       "</div>"
      ],
      "text/plain": [
       "    Folder       Id   Field    Well  CoringTop  CoringDown  CoringTopBind  \\\n",
       "0  Unload2  1001901  Field1   Well3     2621.0      2638.0         2624.0   \n",
       "1  Unload1  1001161  Field3  Well12     3175.1      3181.1         3176.3   \n",
       "2  Unload1  1001305  Field3  Well12     3252.0      3263.0         3253.5   \n",
       "3  Unload1  1001475  Field3   Well9      798.0       805.0          798.7   \n",
       "4  Unload2  1001097  Field8  Well14     2781.0      2799.0         2782.1   \n",
       "\n",
       "   CoringDownBind  CoreRecovery  PhotoTop  PhotoDown PhotoType  LayerTop  \\\n",
       "0          2641.0         16.85      2.93       3.91        УФ      2.63   \n",
       "1          3182.3          5.98      1.00       1.45        УФ      0.90   \n",
       "2          3264.5         10.92      0.00       1.00        УФ      0.00   \n",
       "3           805.7          6.90      6.72       6.90        УФ      6.72   \n",
       "4          2800.1         17.99     15.98      16.99        УФ     12.00   \n",
       "\n",
       "   LayerDown                                  Rock  \\\n",
       "0       5.34                              песчаник   \n",
       "1       1.45  пересл. песчаника, алевролита и глин   \n",
       "2       4.04                             алевролит   \n",
       "3       6.90                       алевро-аргиллит   \n",
       "4      17.81            кремнисто-глинистая порода   \n",
       "\n",
       "                                  Carbonate               Ruin  \\\n",
       "0  с карбонатными обломками или конкрециями  частично разрушен   \n",
       "1                                с примесью        не разрушен   \n",
       "2                          слабокарбонатный        не разрушен   \n",
       "3                            не карбонатный        не разрушен   \n",
       "4                            не карбонатный        не разрушен   \n",
       "\n",
       "        Saturation  class    weight  \n",
       "0  нефтенасыщенные      1  0.000459  \n",
       "1        не опред.      0  0.001124  \n",
       "2        не опред.      0  0.001490  \n",
       "3        не опред.      0  0.001809  \n",
       "4     битуминозный      2  0.001274  "
      ]
     },
     "execution_count": 88,
     "metadata": {},
     "output_type": "execute_result"
    }
   ],
   "source": [
    "dc.head()"
   ]
  },
  {
   "cell_type": "code",
   "execution_count": 99,
   "metadata": {},
   "outputs": [],
   "source": [
    "dc.to_csv('../data/train_data_dc.csv', index=False)\n",
    "uf.to_csv('../data/train_data_uf.csv', index=False)"
   ]
  },
  {
   "cell_type": "code",
   "execution_count": 50,
   "metadata": {},
   "outputs": [
    {
     "ename": "SyntaxError",
     "evalue": "unexpected EOF while parsing (<ipython-input-50-a940ff8553d6>, line 1)",
     "output_type": "error",
     "traceback": [
      "\u001b[0;36m  File \u001b[0;32m\"<ipython-input-50-a940ff8553d6>\"\u001b[0;36m, line \u001b[0;32m1\u001b[0m\n\u001b[0;31m    weights_list[\"алевролит\", \"аргиллит\", \"печаник\"\u001b[0m\n\u001b[0m                                                   ^\u001b[0m\n\u001b[0;31mSyntaxError\u001b[0m\u001b[0;31m:\u001b[0m unexpected EOF while parsing\n"
     ]
    }
   ],
   "source": [
    "weights_list[\"алевролит\", \"аргиллит\", \"печаник\""
   ]
  },
  {
   "cell_type": "code",
   "execution_count": null,
   "metadata": {},
   "outputs": [],
   "source": [
    "reduced_weights_;"
   ]
  }
 ],
 "metadata": {
  "kernelspec": {
   "display_name": "Python 3",
   "language": "python",
   "name": "python3"
  },
  "language_info": {
   "codemirror_mode": {
    "name": "ipython",
    "version": 3
   },
   "file_extension": ".py",
   "mimetype": "text/x-python",
   "name": "python",
   "nbconvert_exporter": "python",
   "pygments_lexer": "ipython3",
   "version": "3.6.8"
  }
 },
 "nbformat": 4,
 "nbformat_minor": 2
}
