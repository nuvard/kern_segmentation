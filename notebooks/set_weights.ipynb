{
 "cells": [
  {
   "cell_type": "code",
   "execution_count": 35,
   "metadata": {},
   "outputs": [],
   "source": [
    "import pandas as pd\n",
    "import numpy as np"
   ]
  },
  {
   "cell_type": "code",
   "execution_count": 96,
   "metadata": {},
   "outputs": [],
   "source": [
    "uf = pd.read_csv(\"../data/train_data_uf.csv\")"
   ]
  },
  {
   "cell_type": "code",
   "execution_count": 97,
   "metadata": {},
   "outputs": [],
   "source": [
    "dc = pd.read_csv(\"../data/train_data_dc.csv\")"
   ]
  },
  {
   "cell_type": "code",
   "execution_count": 98,
   "metadata": {},
   "outputs": [
    {
     "data": {
      "text/html": [
       "<div>\n",
       "<style scoped>\n",
       "    .dataframe tbody tr th:only-of-type {\n",
       "        vertical-align: middle;\n",
       "    }\n",
       "\n",
       "    .dataframe tbody tr th {\n",
       "        vertical-align: top;\n",
       "    }\n",
       "\n",
       "    .dataframe thead th {\n",
       "        text-align: right;\n",
       "    }\n",
       "</style>\n",
       "<table border=\"1\" class=\"dataframe\">\n",
       "  <thead>\n",
       "    <tr style=\"text-align: right;\">\n",
       "      <th></th>\n",
       "      <th>Folder</th>\n",
       "      <th>Id</th>\n",
       "      <th>Field</th>\n",
       "      <th>Well</th>\n",
       "      <th>CoringTop</th>\n",
       "      <th>CoringDown</th>\n",
       "      <th>CoringTopBind</th>\n",
       "      <th>CoringDownBind</th>\n",
       "      <th>CoreRecovery</th>\n",
       "      <th>PhotoTop</th>\n",
       "      <th>PhotoDown</th>\n",
       "      <th>PhotoType</th>\n",
       "      <th>LayerTop</th>\n",
       "      <th>LayerDown</th>\n",
       "      <th>Rock</th>\n",
       "      <th>Carbonate</th>\n",
       "      <th>Ruin</th>\n",
       "      <th>Saturation</th>\n",
       "      <th>class</th>\n",
       "      <th>weight</th>\n",
       "    </tr>\n",
       "  </thead>\n",
       "  <tbody>\n",
       "    <tr>\n",
       "      <th>0</th>\n",
       "      <td>Unload2</td>\n",
       "      <td>1001901</td>\n",
       "      <td>Field1</td>\n",
       "      <td>Well3</td>\n",
       "      <td>2621.0</td>\n",
       "      <td>2638.0</td>\n",
       "      <td>2624.0</td>\n",
       "      <td>2641.0</td>\n",
       "      <td>16.85</td>\n",
       "      <td>2.93</td>\n",
       "      <td>3.91</td>\n",
       "      <td>УФ</td>\n",
       "      <td>2.63</td>\n",
       "      <td>5.34</td>\n",
       "      <td>песчаник</td>\n",
       "      <td>с карбонатными обломками или конкрециями</td>\n",
       "      <td>частично разрушен</td>\n",
       "      <td>нефтенасыщенные</td>\n",
       "      <td>1</td>\n",
       "      <td>2.766972</td>\n",
       "    </tr>\n",
       "    <tr>\n",
       "      <th>1</th>\n",
       "      <td>Unload1</td>\n",
       "      <td>1001161</td>\n",
       "      <td>Field3</td>\n",
       "      <td>Well12</td>\n",
       "      <td>3175.1</td>\n",
       "      <td>3181.1</td>\n",
       "      <td>3176.3</td>\n",
       "      <td>3182.3</td>\n",
       "      <td>5.98</td>\n",
       "      <td>1.00</td>\n",
       "      <td>1.45</td>\n",
       "      <td>УФ</td>\n",
       "      <td>0.90</td>\n",
       "      <td>1.45</td>\n",
       "      <td>пересл. песчаника, алевролита и глин</td>\n",
       "      <td>с примесью</td>\n",
       "      <td>не разрушен</td>\n",
       "      <td>не опред.</td>\n",
       "      <td>0</td>\n",
       "      <td>4.157229</td>\n",
       "    </tr>\n",
       "    <tr>\n",
       "      <th>2</th>\n",
       "      <td>Unload1</td>\n",
       "      <td>1001305</td>\n",
       "      <td>Field3</td>\n",
       "      <td>Well12</td>\n",
       "      <td>3252.0</td>\n",
       "      <td>3263.0</td>\n",
       "      <td>3253.5</td>\n",
       "      <td>3264.5</td>\n",
       "      <td>10.92</td>\n",
       "      <td>0.00</td>\n",
       "      <td>1.00</td>\n",
       "      <td>УФ</td>\n",
       "      <td>0.00</td>\n",
       "      <td>4.04</td>\n",
       "      <td>алевролит</td>\n",
       "      <td>слабокарбонатный</td>\n",
       "      <td>не разрушен</td>\n",
       "      <td>не опред.</td>\n",
       "      <td>0</td>\n",
       "      <td>8.989568</td>\n",
       "    </tr>\n",
       "    <tr>\n",
       "      <th>3</th>\n",
       "      <td>Unload1</td>\n",
       "      <td>1001475</td>\n",
       "      <td>Field3</td>\n",
       "      <td>Well9</td>\n",
       "      <td>798.0</td>\n",
       "      <td>805.0</td>\n",
       "      <td>798.7</td>\n",
       "      <td>805.7</td>\n",
       "      <td>6.90</td>\n",
       "      <td>6.72</td>\n",
       "      <td>6.90</td>\n",
       "      <td>УФ</td>\n",
       "      <td>6.72</td>\n",
       "      <td>6.90</td>\n",
       "      <td>алевро-аргиллит</td>\n",
       "      <td>не карбонатный</td>\n",
       "      <td>не разрушен</td>\n",
       "      <td>не опред.</td>\n",
       "      <td>0</td>\n",
       "      <td>8.772798</td>\n",
       "    </tr>\n",
       "    <tr>\n",
       "      <th>4</th>\n",
       "      <td>Unload2</td>\n",
       "      <td>1001097</td>\n",
       "      <td>Field8</td>\n",
       "      <td>Well14</td>\n",
       "      <td>2781.0</td>\n",
       "      <td>2799.0</td>\n",
       "      <td>2782.1</td>\n",
       "      <td>2800.1</td>\n",
       "      <td>17.99</td>\n",
       "      <td>15.98</td>\n",
       "      <td>16.99</td>\n",
       "      <td>УФ</td>\n",
       "      <td>12.00</td>\n",
       "      <td>17.81</td>\n",
       "      <td>кремнисто-глинистая порода</td>\n",
       "      <td>не карбонатный</td>\n",
       "      <td>не разрушен</td>\n",
       "      <td>битуминозный</td>\n",
       "      <td>2</td>\n",
       "      <td>2.436187</td>\n",
       "    </tr>\n",
       "  </tbody>\n",
       "</table>\n",
       "</div>"
      ],
      "text/plain": [
       "    Folder       Id   Field    Well  CoringTop  CoringDown  CoringTopBind  \\\n",
       "0  Unload2  1001901  Field1   Well3     2621.0      2638.0         2624.0   \n",
       "1  Unload1  1001161  Field3  Well12     3175.1      3181.1         3176.3   \n",
       "2  Unload1  1001305  Field3  Well12     3252.0      3263.0         3253.5   \n",
       "3  Unload1  1001475  Field3   Well9      798.0       805.0          798.7   \n",
       "4  Unload2  1001097  Field8  Well14     2781.0      2799.0         2782.1   \n",
       "\n",
       "   CoringDownBind  CoreRecovery  PhotoTop  PhotoDown PhotoType  LayerTop  \\\n",
       "0          2641.0         16.85      2.93       3.91        УФ      2.63   \n",
       "1          3182.3          5.98      1.00       1.45        УФ      0.90   \n",
       "2          3264.5         10.92      0.00       1.00        УФ      0.00   \n",
       "3           805.7          6.90      6.72       6.90        УФ      6.72   \n",
       "4          2800.1         17.99     15.98      16.99        УФ     12.00   \n",
       "\n",
       "   LayerDown                                  Rock  \\\n",
       "0       5.34                              песчаник   \n",
       "1       1.45  пересл. песчаника, алевролита и глин   \n",
       "2       4.04                             алевролит   \n",
       "3       6.90                       алевро-аргиллит   \n",
       "4      17.81            кремнисто-глинистая порода   \n",
       "\n",
       "                                  Carbonate               Ruin  \\\n",
       "0  с карбонатными обломками или конкрециями  частично разрушен   \n",
       "1                                с примесью        не разрушен   \n",
       "2                          слабокарбонатный        не разрушен   \n",
       "3                            не карбонатный        не разрушен   \n",
       "4                            не карбонатный        не разрушен   \n",
       "\n",
       "        Saturation  class    weight  \n",
       "0  нефтенасыщенные      1  2.766972  \n",
       "1        не опред.      0  4.157229  \n",
       "2        не опред.      0  8.989568  \n",
       "3        не опред.      0  8.772798  \n",
       "4     битуминозный      2  2.436187  "
      ]
     },
     "execution_count": 98,
     "metadata": {},
     "output_type": "execute_result"
    }
   ],
   "source": [
    "uf.head()"
   ]
  },
  {
   "cell_type": "code",
   "execution_count": 65,
   "metadata": {},
   "outputs": [],
   "source": [
    "classes = pd.read_csv(\"../data/train_classes.csv\")"
   ]
  },
  {
   "cell_type": "code",
   "execution_count": 66,
   "metadata": {},
   "outputs": [
    {
     "name": "stdout",
     "output_type": "stream",
     "text": [
      "6_channel_transfer.ipynb      rn18-1e-3.ipynb      train-Copy2.ipynb\r\n",
      "6_channel_transfer_SVM.ipynb  rn18-1e-5.ipynb      train.ipynb\r\n",
      "EDA.ipynb                     rn18-ft.ipynb        train_data_dc.csv\r\n",
      "autoencoder-big-1.ipynb       set_weights.ipynb    train_data_uf.csv\r\n",
      "autoencoder-big-2.ipynb       to_multiclass.ipynb  transfer_baseline.ipynb\r\n",
      "autoencoder.ipynb             to_train_test.ipynb  \u001b[0m\u001b[01;34mwandb\u001b[0m/\r\n",
      "hyper_opt.ipynb               train-Copy1.ipynb\r\n"
     ]
    }
   ],
   "source": [
    "ls\n"
   ]
  },
  {
   "cell_type": "code",
   "execution_count": 67,
   "metadata": {},
   "outputs": [
    {
     "data": {
      "text/html": [
       "<div>\n",
       "<style scoped>\n",
       "    .dataframe tbody tr th:only-of-type {\n",
       "        vertical-align: middle;\n",
       "    }\n",
       "\n",
       "    .dataframe tbody tr th {\n",
       "        vertical-align: top;\n",
       "    }\n",
       "\n",
       "    .dataframe thead th {\n",
       "        text-align: right;\n",
       "    }\n",
       "</style>\n",
       "<table border=\"1\" class=\"dataframe\">\n",
       "  <thead>\n",
       "    <tr style=\"text-align: right;\">\n",
       "      <th></th>\n",
       "      <th>алевролит</th>\n",
       "      <th>аргиллит</th>\n",
       "      <th>глина</th>\n",
       "      <th>другое</th>\n",
       "      <th>карбонатная порода</th>\n",
       "      <th>кремнистая порода</th>\n",
       "      <th>переслой</th>\n",
       "      <th>песчаник</th>\n",
       "    </tr>\n",
       "  </thead>\n",
       "  <tbody>\n",
       "    <tr>\n",
       "      <th>0</th>\n",
       "      <td>0</td>\n",
       "      <td>0</td>\n",
       "      <td>0</td>\n",
       "      <td>0</td>\n",
       "      <td>0</td>\n",
       "      <td>0</td>\n",
       "      <td>0</td>\n",
       "      <td>1</td>\n",
       "    </tr>\n",
       "    <tr>\n",
       "      <th>1</th>\n",
       "      <td>1</td>\n",
       "      <td>0</td>\n",
       "      <td>1</td>\n",
       "      <td>0</td>\n",
       "      <td>0</td>\n",
       "      <td>0</td>\n",
       "      <td>1</td>\n",
       "      <td>1</td>\n",
       "    </tr>\n",
       "    <tr>\n",
       "      <th>2</th>\n",
       "      <td>1</td>\n",
       "      <td>0</td>\n",
       "      <td>0</td>\n",
       "      <td>0</td>\n",
       "      <td>0</td>\n",
       "      <td>0</td>\n",
       "      <td>0</td>\n",
       "      <td>0</td>\n",
       "    </tr>\n",
       "    <tr>\n",
       "      <th>3</th>\n",
       "      <td>1</td>\n",
       "      <td>1</td>\n",
       "      <td>0</td>\n",
       "      <td>0</td>\n",
       "      <td>0</td>\n",
       "      <td>0</td>\n",
       "      <td>0</td>\n",
       "      <td>0</td>\n",
       "    </tr>\n",
       "    <tr>\n",
       "      <th>4</th>\n",
       "      <td>0</td>\n",
       "      <td>0</td>\n",
       "      <td>1</td>\n",
       "      <td>0</td>\n",
       "      <td>0</td>\n",
       "      <td>1</td>\n",
       "      <td>0</td>\n",
       "      <td>0</td>\n",
       "    </tr>\n",
       "  </tbody>\n",
       "</table>\n",
       "</div>"
      ],
      "text/plain": [
       "   алевролит  аргиллит  глина  другое  карбонатная порода  кремнистая порода  \\\n",
       "0          0         0      0       0                   0                  0   \n",
       "1          1         0      1       0                   0                  0   \n",
       "2          1         0      0       0                   0                  0   \n",
       "3          1         1      0       0                   0                  0   \n",
       "4          0         0      1       0                   0                  1   \n",
       "\n",
       "   переслой  песчаник  \n",
       "0         0         1  \n",
       "1         1         1  \n",
       "2         0         0  \n",
       "3         0         0  \n",
       "4         0         0  "
      ]
     },
     "execution_count": 67,
     "metadata": {},
     "output_type": "execute_result"
    }
   ],
   "source": [
    "classes.head()"
   ]
  },
  {
   "cell_type": "code",
   "execution_count": 9,
   "metadata": {},
   "outputs": [],
   "source": [
    "weights = dc.Rock.value_counts()"
   ]
  },
  {
   "cell_type": "code",
   "execution_count": 10,
   "metadata": {},
   "outputs": [
    {
     "data": {
      "text/plain": [
       "песчаник                                          790\n",
       "аргиллит                                          418\n",
       "алевролит                                         378\n",
       "пересл. песчаника, алевролита и глин              217\n",
       "переслаивание песчаника и алевролита               48\n",
       "кремнистая порода                                  47\n",
       "песчаник глинистый                                 32\n",
       "глинисто-кремнистая порода                         28\n",
       "глина аргиллитоподобная                            21\n",
       "карбонатно-кремнистая порода                       17\n",
       "кремнисто-глинистая порода                         17\n",
       "уголь                                              16\n",
       "пересл. аргиллита и алевролита                     15\n",
       "фундамент                                           9\n",
       "алевро-аргиллит                                     8\n",
       "алевролит сильноглинистый                           5\n",
       "известняк                                           5\n",
       "кремнисто-карбонатная порода                        4\n",
       "пересл. песчаника и глины аргиллитоподобной         3\n",
       "пересл. кремнисто-глинистой породы и аргиллита      2\n",
       "конгломерат                                         2\n",
       "пересл. угля и аргиллита                            2\n",
       "карбонатная порода                                  1\n",
       "брекчия                                             1\n",
       "пересл. известняка и кремнистой породы              1\n",
       "аргиллит углистый                                   1\n",
       "глина                                               1\n",
       "Name: Rock, dtype: int64"
      ]
     },
     "execution_count": 10,
     "metadata": {},
     "output_type": "execute_result"
    }
   ],
   "source": [
    "weights"
   ]
  },
  {
   "cell_type": "code",
   "execution_count": 11,
   "metadata": {},
   "outputs": [
    {
     "data": {
      "text/html": [
       "<div>\n",
       "<style scoped>\n",
       "    .dataframe tbody tr th:only-of-type {\n",
       "        vertical-align: middle;\n",
       "    }\n",
       "\n",
       "    .dataframe tbody tr th {\n",
       "        vertical-align: top;\n",
       "    }\n",
       "\n",
       "    .dataframe thead th {\n",
       "        text-align: right;\n",
       "    }\n",
       "</style>\n",
       "<table border=\"1\" class=\"dataframe\">\n",
       "  <thead>\n",
       "    <tr style=\"text-align: right;\">\n",
       "      <th></th>\n",
       "      <th>алевролит</th>\n",
       "      <th>аргиллит</th>\n",
       "      <th>глина</th>\n",
       "      <th>другое</th>\n",
       "      <th>карбонатная порода</th>\n",
       "      <th>кремнистая порода</th>\n",
       "      <th>переслой</th>\n",
       "      <th>песчаник</th>\n",
       "    </tr>\n",
       "  </thead>\n",
       "  <tbody>\n",
       "    <tr>\n",
       "      <th>0</th>\n",
       "      <td>0</td>\n",
       "      <td>0</td>\n",
       "      <td>0</td>\n",
       "      <td>0</td>\n",
       "      <td>0</td>\n",
       "      <td>0</td>\n",
       "      <td>0</td>\n",
       "      <td>1</td>\n",
       "    </tr>\n",
       "    <tr>\n",
       "      <th>1</th>\n",
       "      <td>1</td>\n",
       "      <td>0</td>\n",
       "      <td>1</td>\n",
       "      <td>0</td>\n",
       "      <td>0</td>\n",
       "      <td>0</td>\n",
       "      <td>1</td>\n",
       "      <td>1</td>\n",
       "    </tr>\n",
       "    <tr>\n",
       "      <th>2</th>\n",
       "      <td>1</td>\n",
       "      <td>0</td>\n",
       "      <td>0</td>\n",
       "      <td>0</td>\n",
       "      <td>0</td>\n",
       "      <td>0</td>\n",
       "      <td>0</td>\n",
       "      <td>0</td>\n",
       "    </tr>\n",
       "    <tr>\n",
       "      <th>3</th>\n",
       "      <td>1</td>\n",
       "      <td>1</td>\n",
       "      <td>0</td>\n",
       "      <td>0</td>\n",
       "      <td>0</td>\n",
       "      <td>0</td>\n",
       "      <td>0</td>\n",
       "      <td>0</td>\n",
       "    </tr>\n",
       "    <tr>\n",
       "      <th>4</th>\n",
       "      <td>0</td>\n",
       "      <td>0</td>\n",
       "      <td>1</td>\n",
       "      <td>0</td>\n",
       "      <td>0</td>\n",
       "      <td>1</td>\n",
       "      <td>0</td>\n",
       "      <td>0</td>\n",
       "    </tr>\n",
       "  </tbody>\n",
       "</table>\n",
       "</div>"
      ],
      "text/plain": [
       "   алевролит  аргиллит  глина  другое  карбонатная порода  кремнистая порода  \\\n",
       "0          0         0      0       0                   0                  0   \n",
       "1          1         0      1       0                   0                  0   \n",
       "2          1         0      0       0                   0                  0   \n",
       "3          1         1      0       0                   0                  0   \n",
       "4          0         0      1       0                   0                  1   \n",
       "\n",
       "   переслой  песчаник  \n",
       "0         0         1  \n",
       "1         1         1  \n",
       "2         0         0  \n",
       "3         0         0  \n",
       "4         0         0  "
      ]
     },
     "execution_count": 11,
     "metadata": {},
     "output_type": "execute_result"
    }
   ],
   "source": [
    "classes.head()"
   ]
  },
  {
   "cell_type": "code",
   "execution_count": 68,
   "metadata": {},
   "outputs": [],
   "source": [
    "weights = classes.sum()"
   ]
  },
  {
   "cell_type": "code",
   "execution_count": 69,
   "metadata": {},
   "outputs": [
    {
     "data": {
      "text/plain": [
       "алевролит              671\n",
       "аргиллит               470\n",
       "глина                  326\n",
       "другое                  33\n",
       "карбонатная порода      22\n",
       "кремнистая порода      116\n",
       "переслой               288\n",
       "песчаник              1090\n",
       "dtype: int64"
      ]
     },
     "execution_count": 69,
     "metadata": {},
     "output_type": "execute_result"
    }
   ],
   "source": [
    "weights"
   ]
  },
  {
   "cell_type": "code",
   "execution_count": 158,
   "metadata": {},
   "outputs": [],
   "source": [
    "def set_weights_to_file(path=\"../data\"):\n",
    "    \"\"\"Sets weights in csv-files with uf-data, dc-data, classes (OHE). \n",
    "    \n",
    "    Weights are applied on \"weight\" column.\n",
    "\n",
    "    Args: \n",
    "        path: path to data with no slash. Example: '../data '\n",
    "    \"\"\"\n",
    "    \n",
    "    uf = pd.read_csv(f\"{path}/train_data_uf.csv\")\n",
    "    dc = pd.read_csv(f\"{path}/train_data_dc.csv\")\n",
    "    classes = pd.read_csv(f\"{path}/train_classes.csv\")\n",
    "    uf, dc, _ = set_weights(uf, dc, classes)\n",
    "    dc.to_csv(f\"{path}/train_data_dc.csv\", index=False)\n",
    "    uf.to_csv(f\"{path}/train_data_uf.csv\", index=False)\n",
    "\n",
    "\n",
    "\n",
    "def set_weights(uf, dc, classes):\n",
    "    \"\"\"Sets weights to kern classes.\n",
    "    \n",
    "    Computes weights of single classes as 1/(count_of_examples*const) \n",
    "    and after that sets final weights as mean of class weights to each example. \n",
    "    Weights are stored in \"weight\" column.\n",
    "    \n",
    "    Args:\n",
    "        uf: pd.DataFrame with UF-data\n",
    "        dc: pd.DataFrame with DL-data\n",
    "        classes: pd.DataFrame with OHE-classes\n",
    "        \n",
    "    Returns:\n",
    "        (uf,dc, weights_dict): dataframes with added(changed) \"weight\" column \n",
    "        and dict with weight values.\n",
    "    \"\"\"\n",
    "    \n",
    "    \n",
    "    \n",
    "    weights = classes.sum()\n",
    "    weights_reduced = {}\n",
    "    weights_list = {}\n",
    "\n",
    "    for  i,j in weights.items():\n",
    "        if i in ['алевролит', 'аргиллит', 'песчаник']:\n",
    "            weights_reduced[i] = j*0.6\n",
    "        if i=='аргиллит':\n",
    "            weights_reduced[i] = j*0.71\n",
    "        if i=='песчаник':\n",
    "            weights_reduced[i] = j*0.78\n",
    "\n",
    "    for i, j in (classes.sum().items()):\n",
    "        #if i=='карбонатная порода' or i=='другое':\n",
    "        #    weights_list[i]=1\n",
    "        #else:     \n",
    "        if i in weights_reduced.keys():\n",
    "            weights_list[i]=classes.sum().sum()/weights_reduced[i]\n",
    "        else:\n",
    "            weights_list[i]=classes.sum().sum()/(abs(classes.sum().sum()-pd.Series(weights_reduced).sum()))\n",
    "    def apply_weights(data, weights_dict=weights_list):\n",
    "        \"\"\"Sets weight as mean of given weights.\n",
    "        Args: \n",
    "            data: row in dataframe\n",
    "            weights_dict: dict with weight values\n",
    "\n",
    "        Returns:\n",
    "            float: computed weight\n",
    "        \"\"\"\n",
    "        weight = 0\n",
    "        weights = []\n",
    "        for i,j in data.items():\n",
    "            #print(i, weights_dict[i])  \n",
    "            if(j!=0):\n",
    "                weights.append(weights_dict[i])\n",
    "        weight = (np.mean(weights))\n",
    "        return weight\n",
    "    \n",
    "    uf[\"weight\"]= classes.apply(apply_weights, axis=1)\n",
    "    dc[\"weight\"] = classes.apply(apply_weights, axis=1)\n",
    "    return (uf, dc, weights_list)\n"
   ]
  },
  {
   "cell_type": "code",
   "execution_count": 159,
   "metadata": {},
   "outputs": [],
   "source": [
    "set_weights_to_file()"
   ]
  },
  {
   "cell_type": "code",
   "execution_count": 121,
   "metadata": {},
   "outputs": [
    {
     "data": {
      "text/plain": [
       "{'алевролит': 402.59999999999997, 'аргиллит': 329.0, 'песчаник': 850.2}"
      ]
     },
     "execution_count": 121,
     "metadata": {},
     "output_type": "execute_result"
    }
   ],
   "source": [
    "weights_reduced"
   ]
  },
  {
   "cell_type": "code",
   "execution_count": 122,
   "metadata": {},
   "outputs": [],
   "source": [
    "weights_list = {}\n",
    "for i, j in (classes.sum().items()):\n",
    "    #if i=='карбонатная порода' or i=='другое':\n",
    "    #    weights_list[i]=1\n",
    "    #else:     \n",
    "    if i in weights_reduced.keys():\n",
    "        weights_list[i]=classes.sum().sum()/weights_reduced[i]\n",
    "    else:\n",
    "        weights_list[i]=classes.sum().sum()/(abs(classes.sum().sum()-pd.Series(weights_reduced).sum()))"
   ]
  },
  {
   "cell_type": "code",
   "execution_count": 123,
   "metadata": {},
   "outputs": [
    {
     "data": {
      "text/plain": [
       "{'алевролит': 7.491306507699951,\n",
       " 'аргиллит': 9.167173252279635,\n",
       " 'глина': 2.102914516803793,\n",
       " 'другое': 2.102914516803793,\n",
       " 'карбонатная порода': 2.102914516803793,\n",
       " 'кремнистая порода': 2.102914516803793,\n",
       " 'переслой': 2.102914516803793,\n",
       " 'песчаник': 3.547400611620795}"
      ]
     },
     "execution_count": 123,
     "metadata": {},
     "output_type": "execute_result"
    }
   ],
   "source": [
    "weights_list"
   ]
  },
  {
   "cell_type": "code",
   "execution_count": 125,
   "metadata": {},
   "outputs": [
    {
     "data": {
      "text/plain": [
       "3.840056619452418"
      ]
     },
     "execution_count": 125,
     "metadata": {},
     "output_type": "execute_result"
    }
   ],
   "source": [
    "np.array(list(weights_list.values())).mean()\n"
   ]
  },
  {
   "cell_type": "raw",
   "metadata": {},
   "source": [
    "weights_list[\"карбонатная порода\"] = np.array(list(weights_list.values())).mean()\n",
    "weights_list[\"другое\"] = np.array(list(weights_list.values())).mean()"
   ]
  },
  {
   "cell_type": "code",
   "execution_count": 126,
   "metadata": {},
   "outputs": [
    {
     "data": {
      "text/plain": [
       "{'алевролит': 7.491306507699951,\n",
       " 'аргиллит': 9.167173252279635,\n",
       " 'глина': 2.102914516803793,\n",
       " 'другое': 2.102914516803793,\n",
       " 'карбонатная порода': 2.102914516803793,\n",
       " 'кремнистая порода': 2.102914516803793,\n",
       " 'переслой': 2.102914516803793,\n",
       " 'песчаник': 3.547400611620795}"
      ]
     },
     "execution_count": 126,
     "metadata": {},
     "output_type": "execute_result"
    }
   ],
   "source": [
    "weights_list"
   ]
  },
  {
   "cell_type": "code",
   "execution_count": 127,
   "metadata": {},
   "outputs": [],
   "source": [
    "def apply_weights(data, weights_dict=weights_list):\n",
    "    weight = 0\n",
    "    weights = []\n",
    "    for i,j in data.items():\n",
    "        #print(i, weights_dict[i])  \n",
    "        if(j!=0):\n",
    "            weights.append(weights_dict[i])\n",
    "    weight = (np.mean(weights))\n",
    "    return weight"
   ]
  },
  {
   "cell_type": "code",
   "execution_count": 128,
   "metadata": {},
   "outputs": [
    {
     "name": "stdout",
     "output_type": "stream",
     "text": [
      "3.811134038232083\n"
     ]
    }
   ],
   "source": [
    "print(apply_weights(classes.iloc[1,], weights_list))"
   ]
  },
  {
   "cell_type": "code",
   "execution_count": 129,
   "metadata": {},
   "outputs": [
    {
     "data": {
      "text/plain": [
       "0       3.547401\n",
       "1       3.811134\n",
       "2       7.491307\n",
       "3       8.329240\n",
       "4       2.102915\n",
       "          ...   \n",
       "2084    3.547401\n",
       "2085    3.811134\n",
       "2086    3.811134\n",
       "2087    3.547401\n",
       "2088    3.547401\n",
       "Length: 2089, dtype: float64"
      ]
     },
     "execution_count": 129,
     "metadata": {},
     "output_type": "execute_result"
    }
   ],
   "source": [
    "classes.apply(apply_weights, axis=1)"
   ]
  },
  {
   "cell_type": "code",
   "execution_count": 130,
   "metadata": {},
   "outputs": [],
   "source": [
    "uf[\"weight\"]= classes.apply(apply_weights, axis=1)\n",
    "dc[\"weight\"] = classes.apply(apply_weights, axis=1)"
   ]
  },
  {
   "cell_type": "code",
   "execution_count": 133,
   "metadata": {},
   "outputs": [],
   "source": [
    "dc.to_csv('../data/train_data_dc.csv', index=False)\n",
    "uf.to_csv('../data/train_data_uf.csv', index=False)"
   ]
  },
  {
   "cell_type": "code",
   "execution_count": null,
   "metadata": {},
   "outputs": [],
   "source": []
  }
 ],
 "metadata": {
  "kernelspec": {
   "display_name": "Python 3",
   "language": "python",
   "name": "python3"
  },
  "language_info": {
   "codemirror_mode": {
    "name": "ipython",
    "version": 3
   },
   "file_extension": ".py",
   "mimetype": "text/x-python",
   "name": "python",
   "nbconvert_exporter": "python",
   "pygments_lexer": "ipython3",
   "version": "3.6.8"
  }
 },
 "nbformat": 4,
 "nbformat_minor": 2
}
