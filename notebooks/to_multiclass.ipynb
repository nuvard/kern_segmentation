{
 "cells": [
  {
   "cell_type": "code",
   "execution_count": 1,
   "metadata": {},
   "outputs": [],
   "source": [
    "import pandas as pd\n",
    "import os\n",
    "from PIL import Image\n"
   ]
  },
  {
   "cell_type": "code",
   "execution_count": 2,
   "metadata": {},
   "outputs": [],
   "source": [
    "train_dc = pd.read_csv('../data/train_data_uf.csv')\n",
    "test_dc = pd.read_csv('../data/test_data_dc.csv')"
   ]
  },
  {
   "cell_type": "code",
   "execution_count": 3,
   "metadata": {},
   "outputs": [
    {
     "data": {
      "text/html": [
       "<div>\n",
       "<style scoped>\n",
       "    .dataframe tbody tr th:only-of-type {\n",
       "        vertical-align: middle;\n",
       "    }\n",
       "\n",
       "    .dataframe tbody tr th {\n",
       "        vertical-align: top;\n",
       "    }\n",
       "\n",
       "    .dataframe thead th {\n",
       "        text-align: right;\n",
       "    }\n",
       "</style>\n",
       "<table border=\"1\" class=\"dataframe\">\n",
       "  <thead>\n",
       "    <tr style=\"text-align: right;\">\n",
       "      <th></th>\n",
       "      <th>index</th>\n",
       "      <th>Folder</th>\n",
       "      <th>Id</th>\n",
       "      <th>Field</th>\n",
       "      <th>Well</th>\n",
       "      <th>CoringTop</th>\n",
       "      <th>CoringDown</th>\n",
       "      <th>CoringTopBind</th>\n",
       "      <th>CoringDownBind</th>\n",
       "      <th>CoreRecovery</th>\n",
       "      <th>...</th>\n",
       "      <th>PhotoDown</th>\n",
       "      <th>PhotoType</th>\n",
       "      <th>LayerTop</th>\n",
       "      <th>LayerDown</th>\n",
       "      <th>Rock</th>\n",
       "      <th>Carbonate</th>\n",
       "      <th>Ruin</th>\n",
       "      <th>Saturation</th>\n",
       "      <th>class</th>\n",
       "      <th>weight</th>\n",
       "    </tr>\n",
       "  </thead>\n",
       "  <tbody>\n",
       "    <tr>\n",
       "      <th>0</th>\n",
       "      <td>1657</td>\n",
       "      <td>Unload2</td>\n",
       "      <td>1001901</td>\n",
       "      <td>Field1</td>\n",
       "      <td>Well3</td>\n",
       "      <td>2621.0</td>\n",
       "      <td>2638.0</td>\n",
       "      <td>2624.0</td>\n",
       "      <td>2641.0</td>\n",
       "      <td>16.85</td>\n",
       "      <td>...</td>\n",
       "      <td>3.91</td>\n",
       "      <td>УФ</td>\n",
       "      <td>2.63</td>\n",
       "      <td>5.34</td>\n",
       "      <td>песчаник</td>\n",
       "      <td>с карбонатными обломками или конкрециями</td>\n",
       "      <td>частично разрушен</td>\n",
       "      <td>нефтенасыщенные</td>\n",
       "      <td>1</td>\n",
       "      <td>9.367713</td>\n",
       "    </tr>\n",
       "    <tr>\n",
       "      <th>1</th>\n",
       "      <td>452</td>\n",
       "      <td>Unload1</td>\n",
       "      <td>1001161</td>\n",
       "      <td>Field3</td>\n",
       "      <td>Well12</td>\n",
       "      <td>3175.1</td>\n",
       "      <td>3181.1</td>\n",
       "      <td>3176.3</td>\n",
       "      <td>3182.3</td>\n",
       "      <td>5.98</td>\n",
       "      <td>...</td>\n",
       "      <td>1.45</td>\n",
       "      <td>УФ</td>\n",
       "      <td>0.90</td>\n",
       "      <td>1.45</td>\n",
       "      <td>пересл. песчаника, алевролита и глин</td>\n",
       "      <td>с примесью</td>\n",
       "      <td>не разрушен</td>\n",
       "      <td>не опред.</td>\n",
       "      <td>0</td>\n",
       "      <td>1.369836</td>\n",
       "    </tr>\n",
       "    <tr>\n",
       "      <th>2</th>\n",
       "      <td>524</td>\n",
       "      <td>Unload1</td>\n",
       "      <td>1001305</td>\n",
       "      <td>Field3</td>\n",
       "      <td>Well12</td>\n",
       "      <td>3252.0</td>\n",
       "      <td>3263.0</td>\n",
       "      <td>3253.5</td>\n",
       "      <td>3264.5</td>\n",
       "      <td>10.92</td>\n",
       "      <td>...</td>\n",
       "      <td>1.00</td>\n",
       "      <td>УФ</td>\n",
       "      <td>0.00</td>\n",
       "      <td>4.04</td>\n",
       "      <td>алевролит</td>\n",
       "      <td>слабокарбонатный</td>\n",
       "      <td>не разрушен</td>\n",
       "      <td>не опред.</td>\n",
       "      <td>0</td>\n",
       "      <td>1.369836</td>\n",
       "    </tr>\n",
       "    <tr>\n",
       "      <th>3</th>\n",
       "      <td>609</td>\n",
       "      <td>Unload1</td>\n",
       "      <td>1001475</td>\n",
       "      <td>Field3</td>\n",
       "      <td>Well9</td>\n",
       "      <td>798.0</td>\n",
       "      <td>805.0</td>\n",
       "      <td>798.7</td>\n",
       "      <td>805.7</td>\n",
       "      <td>6.90</td>\n",
       "      <td>...</td>\n",
       "      <td>6.90</td>\n",
       "      <td>УФ</td>\n",
       "      <td>6.72</td>\n",
       "      <td>6.90</td>\n",
       "      <td>алевро-аргиллит</td>\n",
       "      <td>не карбонатный</td>\n",
       "      <td>не разрушен</td>\n",
       "      <td>не опред.</td>\n",
       "      <td>0</td>\n",
       "      <td>1.369836</td>\n",
       "    </tr>\n",
       "    <tr>\n",
       "      <th>4</th>\n",
       "      <td>1255</td>\n",
       "      <td>Unload2</td>\n",
       "      <td>1001097</td>\n",
       "      <td>Field8</td>\n",
       "      <td>Well14</td>\n",
       "      <td>2781.0</td>\n",
       "      <td>2799.0</td>\n",
       "      <td>2782.1</td>\n",
       "      <td>2800.1</td>\n",
       "      <td>17.99</td>\n",
       "      <td>...</td>\n",
       "      <td>16.99</td>\n",
       "      <td>УФ</td>\n",
       "      <td>12.00</td>\n",
       "      <td>17.81</td>\n",
       "      <td>кремнисто-глинистая порода</td>\n",
       "      <td>не карбонатный</td>\n",
       "      <td>не разрушен</td>\n",
       "      <td>битуминозный</td>\n",
       "      <td>2</td>\n",
       "      <td>19.707547</td>\n",
       "    </tr>\n",
       "  </tbody>\n",
       "</table>\n",
       "<p>5 rows × 21 columns</p>\n",
       "</div>"
      ],
      "text/plain": [
       "   index   Folder       Id   Field    Well  CoringTop  CoringDown  \\\n",
       "0   1657  Unload2  1001901  Field1   Well3     2621.0      2638.0   \n",
       "1    452  Unload1  1001161  Field3  Well12     3175.1      3181.1   \n",
       "2    524  Unload1  1001305  Field3  Well12     3252.0      3263.0   \n",
       "3    609  Unload1  1001475  Field3   Well9      798.0       805.0   \n",
       "4   1255  Unload2  1001097  Field8  Well14     2781.0      2799.0   \n",
       "\n",
       "   CoringTopBind  CoringDownBind  CoreRecovery  ...  PhotoDown  PhotoType  \\\n",
       "0         2624.0          2641.0         16.85  ...       3.91         УФ   \n",
       "1         3176.3          3182.3          5.98  ...       1.45         УФ   \n",
       "2         3253.5          3264.5         10.92  ...       1.00         УФ   \n",
       "3          798.7           805.7          6.90  ...       6.90         УФ   \n",
       "4         2782.1          2800.1         17.99  ...      16.99         УФ   \n",
       "\n",
       "  LayerTop  LayerDown                                  Rock  \\\n",
       "0     2.63       5.34                              песчаник   \n",
       "1     0.90       1.45  пересл. песчаника, алевролита и глин   \n",
       "2     0.00       4.04                             алевролит   \n",
       "3     6.72       6.90                       алевро-аргиллит   \n",
       "4    12.00      17.81            кремнисто-глинистая порода   \n",
       "\n",
       "                                  Carbonate               Ruin  \\\n",
       "0  с карбонатными обломками или конкрециями  частично разрушен   \n",
       "1                                с примесью        не разрушен   \n",
       "2                          слабокарбонатный        не разрушен   \n",
       "3                            не карбонатный        не разрушен   \n",
       "4                            не карбонатный        не разрушен   \n",
       "\n",
       "        Saturation class     weight  \n",
       "0  нефтенасыщенные     1   9.367713  \n",
       "1        не опред.     0   1.369836  \n",
       "2        не опред.     0   1.369836  \n",
       "3        не опред.     0   1.369836  \n",
       "4     битуминозный     2  19.707547  \n",
       "\n",
       "[5 rows x 21 columns]"
      ]
     },
     "execution_count": 3,
     "metadata": {},
     "output_type": "execute_result"
    }
   ],
   "source": [
    "train_dc.head()"
   ]
  },
  {
   "cell_type": "code",
   "execution_count": 4,
   "metadata": {},
   "outputs": [
    {
     "data": {
      "text/plain": [
       "песчаник                                          790\n",
       "аргиллит                                          418\n",
       "алевролит                                         378\n",
       "пересл. песчаника, алевролита и глин              217\n",
       "переслаивание песчаника и алевролита               48\n",
       "кремнистая порода                                  47\n",
       "песчаник глинистый                                 32\n",
       "глинисто-кремнистая порода                         28\n",
       "глина аргиллитоподобная                            21\n",
       "карбонатно-кремнистая порода                       17\n",
       "кремнисто-глинистая порода                         17\n",
       "уголь                                              16\n",
       "пересл. аргиллита и алевролита                     15\n",
       "фундамент                                           9\n",
       "алевро-аргиллит                                     8\n",
       "алевролит сильноглинистый                           5\n",
       "известняк                                           5\n",
       "кремнисто-карбонатная порода                        4\n",
       "пересл. песчаника и глины аргиллитоподобной         3\n",
       "пересл. угля и аргиллита                            2\n",
       "конгломерат                                         2\n",
       "пересл. кремнисто-глинистой породы и аргиллита      2\n",
       "карбонатная порода                                  1\n",
       "глина                                               1\n",
       "аргиллит углистый                                   1\n",
       "пересл. известняка и кремнистой породы              1\n",
       "брекчия                                             1\n",
       "Name: Rock, dtype: int64"
      ]
     },
     "execution_count": 4,
     "metadata": {},
     "output_type": "execute_result"
    }
   ],
   "source": [
    "train_dc.Rock.value_counts()"
   ]
  },
  {
   "cell_type": "code",
   "execution_count": 41,
   "metadata": {},
   "outputs": [],
   "source": [
    "label = train_dc.apply(lambda x: x[\"rock_label\"]+','+x[\"Ruin\"]+','+x[\"Carbonate\"]+','+x[\"Saturation\"], axis=1)\n"
   ]
  },
  {
   "cell_type": "code",
   "execution_count": 35,
   "metadata": {},
   "outputs": [],
   "source": [
    "train_dc.Rock2 = 0 \n",
    "rock_list = {\"песчан\":\"песчаник\", \"аргилл\":\"аргиллит\", \"алевро\":\"алевролит\", \"пересл\":\"переслой\", \\\n",
    "             \"кремн\":\"кремнистая порода\", \"глин\":\"глина\", \"карбон\":\"карбонатная порода\"}\n",
    "def find_rock(inp):\n",
    "    rocks = []\n",
    "    for i,j in rock_list.items():\n",
    "        if inp.find(i)!=-1:\n",
    "            rocks.append(j)\n",
    "    if len(rocks)==0: \n",
    "        rocks.append(\"другое\")\n",
    "    return rocks\n",
    "rock = test_dc.Rock.apply(find_rock)"
   ]
  },
  {
   "cell_type": "code",
   "execution_count": 37,
   "metadata": {},
   "outputs": [],
   "source": [
    "test_dc[\"rock_classes\"] = rock\n",
    "test_dc[\"rock_label\"]  = rock.apply(lambda x: ','.join(x))"
   ]
  },
  {
   "cell_type": "code",
   "execution_count": 7,
   "metadata": {},
   "outputs": [],
   "source": [
    "test_dc[\"rock_label\"] = rock_label"
   ]
  },
  {
   "cell_type": "code",
   "execution_count": 38,
   "metadata": {},
   "outputs": [
    {
     "data": {
      "text/html": [
       "<div>\n",
       "<style scoped>\n",
       "    .dataframe tbody tr th:only-of-type {\n",
       "        vertical-align: middle;\n",
       "    }\n",
       "\n",
       "    .dataframe tbody tr th {\n",
       "        vertical-align: top;\n",
       "    }\n",
       "\n",
       "    .dataframe thead th {\n",
       "        text-align: right;\n",
       "    }\n",
       "</style>\n",
       "<table border=\"1\" class=\"dataframe\">\n",
       "  <thead>\n",
       "    <tr style=\"text-align: right;\">\n",
       "      <th></th>\n",
       "      <th>index</th>\n",
       "      <th>Folder</th>\n",
       "      <th>Id</th>\n",
       "      <th>Field</th>\n",
       "      <th>Well</th>\n",
       "      <th>CoringTop</th>\n",
       "      <th>CoringDown</th>\n",
       "      <th>CoringTopBind</th>\n",
       "      <th>CoringDownBind</th>\n",
       "      <th>CoreRecovery</th>\n",
       "      <th>...</th>\n",
       "      <th>PhotoType</th>\n",
       "      <th>LayerTop</th>\n",
       "      <th>LayerDown</th>\n",
       "      <th>Rock</th>\n",
       "      <th>Carbonate</th>\n",
       "      <th>Ruin</th>\n",
       "      <th>Saturation</th>\n",
       "      <th>class</th>\n",
       "      <th>rock_classes</th>\n",
       "      <th>rock_label</th>\n",
       "    </tr>\n",
       "  </thead>\n",
       "  <tbody>\n",
       "    <tr>\n",
       "      <th>0</th>\n",
       "      <td>419</td>\n",
       "      <td>Unload1</td>\n",
       "      <td>1000981</td>\n",
       "      <td>Field7</td>\n",
       "      <td>Well13</td>\n",
       "      <td>2748.00</td>\n",
       "      <td>2757.0</td>\n",
       "      <td>0.00</td>\n",
       "      <td>0.0</td>\n",
       "      <td>8.74</td>\n",
       "      <td>...</td>\n",
       "      <td>УФ</td>\n",
       "      <td>0.00</td>\n",
       "      <td>2.47</td>\n",
       "      <td>аргиллит</td>\n",
       "      <td>не карбонатный</td>\n",
       "      <td>частично разрушен</td>\n",
       "      <td>не опред.</td>\n",
       "      <td>0</td>\n",
       "      <td>[аргиллит]</td>\n",
       "      <td>аргиллит</td>\n",
       "    </tr>\n",
       "    <tr>\n",
       "      <th>1</th>\n",
       "      <td>307</td>\n",
       "      <td>Unload1</td>\n",
       "      <td>1000729</td>\n",
       "      <td>Field5</td>\n",
       "      <td>Well6</td>\n",
       "      <td>3142.76</td>\n",
       "      <td>3161.0</td>\n",
       "      <td>3142.26</td>\n",
       "      <td>3160.5</td>\n",
       "      <td>18.15</td>\n",
       "      <td>...</td>\n",
       "      <td>УФ</td>\n",
       "      <td>10.15</td>\n",
       "      <td>11.42</td>\n",
       "      <td>песчаник</td>\n",
       "      <td>не карбонатный</td>\n",
       "      <td>не разрушен</td>\n",
       "      <td>не опред.</td>\n",
       "      <td>0</td>\n",
       "      <td>[песчаник]</td>\n",
       "      <td>песчаник</td>\n",
       "    </tr>\n",
       "    <tr>\n",
       "      <th>2</th>\n",
       "      <td>2454</td>\n",
       "      <td>Unload2</td>\n",
       "      <td>1003497</td>\n",
       "      <td>Field2</td>\n",
       "      <td>Well2</td>\n",
       "      <td>2747.00</td>\n",
       "      <td>2759.9</td>\n",
       "      <td>2751.00</td>\n",
       "      <td>2763.9</td>\n",
       "      <td>12.88</td>\n",
       "      <td>...</td>\n",
       "      <td>УФ</td>\n",
       "      <td>0.00</td>\n",
       "      <td>12.88</td>\n",
       "      <td>алевролит</td>\n",
       "      <td>с карбонатными обломками или конкрециями</td>\n",
       "      <td>частично разрушен</td>\n",
       "      <td>не опред.</td>\n",
       "      <td>0</td>\n",
       "      <td>[алевролит]</td>\n",
       "      <td>алевролит</td>\n",
       "    </tr>\n",
       "    <tr>\n",
       "      <th>3</th>\n",
       "      <td>2406</td>\n",
       "      <td>Unload2</td>\n",
       "      <td>1003401</td>\n",
       "      <td>Field1</td>\n",
       "      <td>Well1</td>\n",
       "      <td>3102.00</td>\n",
       "      <td>3114.0</td>\n",
       "      <td>3104.70</td>\n",
       "      <td>3116.7</td>\n",
       "      <td>12.00</td>\n",
       "      <td>...</td>\n",
       "      <td>УФ</td>\n",
       "      <td>2.31</td>\n",
       "      <td>3.83</td>\n",
       "      <td>аргиллит</td>\n",
       "      <td>не карбонатный</td>\n",
       "      <td>частично разрушен</td>\n",
       "      <td>не опред.</td>\n",
       "      <td>0</td>\n",
       "      <td>[аргиллит]</td>\n",
       "      <td>аргиллит</td>\n",
       "    </tr>\n",
       "    <tr>\n",
       "      <th>4</th>\n",
       "      <td>1201</td>\n",
       "      <td>Unload2</td>\n",
       "      <td>1000989</td>\n",
       "      <td>Field9</td>\n",
       "      <td>Well5</td>\n",
       "      <td>1886.00</td>\n",
       "      <td>1898.0</td>\n",
       "      <td>1884.40</td>\n",
       "      <td>1896.4</td>\n",
       "      <td>11.75</td>\n",
       "      <td>...</td>\n",
       "      <td>УФ</td>\n",
       "      <td>6.31</td>\n",
       "      <td>6.98</td>\n",
       "      <td>аргиллит</td>\n",
       "      <td>не карбонатный</td>\n",
       "      <td>разрушен</td>\n",
       "      <td>не опред.</td>\n",
       "      <td>0</td>\n",
       "      <td>[аргиллит]</td>\n",
       "      <td>аргиллит</td>\n",
       "    </tr>\n",
       "  </tbody>\n",
       "</table>\n",
       "<p>5 rows × 22 columns</p>\n",
       "</div>"
      ],
      "text/plain": [
       "   index   Folder       Id   Field    Well  CoringTop  CoringDown  \\\n",
       "0    419  Unload1  1000981  Field7  Well13    2748.00      2757.0   \n",
       "1    307  Unload1  1000729  Field5   Well6    3142.76      3161.0   \n",
       "2   2454  Unload2  1003497  Field2   Well2    2747.00      2759.9   \n",
       "3   2406  Unload2  1003401  Field1   Well1    3102.00      3114.0   \n",
       "4   1201  Unload2  1000989  Field9   Well5    1886.00      1898.0   \n",
       "\n",
       "   CoringTopBind  CoringDownBind  CoreRecovery  ...  PhotoType  LayerTop  \\\n",
       "0           0.00             0.0          8.74  ...         УФ      0.00   \n",
       "1        3142.26          3160.5         18.15  ...         УФ     10.15   \n",
       "2        2751.00          2763.9         12.88  ...         УФ      0.00   \n",
       "3        3104.70          3116.7         12.00  ...         УФ      2.31   \n",
       "4        1884.40          1896.4         11.75  ...         УФ      6.31   \n",
       "\n",
       "  LayerDown       Rock                                 Carbonate  \\\n",
       "0      2.47   аргиллит                            не карбонатный   \n",
       "1     11.42   песчаник                            не карбонатный   \n",
       "2     12.88  алевролит  с карбонатными обломками или конкрециями   \n",
       "3      3.83   аргиллит                            не карбонатный   \n",
       "4      6.98   аргиллит                            не карбонатный   \n",
       "\n",
       "                Ruin Saturation class rock_classes  rock_label  \n",
       "0  частично разрушен  не опред.     0   [аргиллит]    аргиллит  \n",
       "1        не разрушен  не опред.     0   [песчаник]    песчаник  \n",
       "2  частично разрушен  не опред.     0  [алевролит]   алевролит  \n",
       "3  частично разрушен  не опред.     0   [аргиллит]    аргиллит  \n",
       "4           разрушен  не опред.     0   [аргиллит]    аргиллит  \n",
       "\n",
       "[5 rows x 22 columns]"
      ]
     },
     "execution_count": 38,
     "metadata": {},
     "output_type": "execute_result"
    }
   ],
   "source": [
    "test_dc.head()"
   ]
  },
  {
   "cell_type": "code",
   "execution_count": 49,
   "metadata": {},
   "outputs": [],
   "source": [
    "train_dc.rock_label = rock_label"
   ]
  },
  {
   "cell_type": "code",
   "execution_count": 12,
   "metadata": {},
   "outputs": [],
   "source": [
    "train_dc.Rock = train_dc.Rock.apply(lambda x: x if x.find('пересл')==-1 else 'переслой')"
   ]
  },
  {
   "cell_type": "code",
   "execution_count": 39,
   "metadata": {},
   "outputs": [
    {
     "data": {
      "text/plain": [
       "песчаник                                421\n",
       "аргиллит                                179\n",
       "алевролит                               174\n",
       "песчаник,алевролит,переслой,глина       108\n",
       "кремнистая порода                        28\n",
       "кремнистая порода,глина                  23\n",
       "песчаник,глина                           22\n",
       "песчаник,алевролит,переслой              21\n",
       "другое                                   18\n",
       "кремнистая порода,карбонатная порода     12\n",
       "аргиллит,глина                           10\n",
       "алевролит,глина                           7\n",
       "аргиллит,алевролит,переслой               3\n",
       "песчаник,аргиллит,переслой,глина          1\n",
       "аргиллит,алевролит                        1\n",
       "глина                                     1\n",
       "аргиллит,переслой                         1\n",
       "Name: rock_label, dtype: int64"
      ]
     },
     "execution_count": 39,
     "metadata": {},
     "output_type": "execute_result"
    }
   ],
   "source": [
    "test_dc[\"rock_label\"].value_counts()"
   ]
  },
  {
   "cell_type": "code",
   "execution_count": 10,
   "metadata": {},
   "outputs": [],
   "source": [
    "bad_classes = [\"конгломерат\", \"доломит\", \"брекчия\", \"уголь\",\"известняк\",\"фундамент\"]"
   ]
  },
  {
   "cell_type": "code",
   "execution_count": 12,
   "metadata": {},
   "outputs": [],
   "source": [
    "train_dc[\"rock_label\"] = train_dc[\"rock_label\"].apply(lambda x: x  if x not in bad_classes else \"другое\")\n",
    "#train_dc = train_dc.loc[temp==1,]"
   ]
  },
  {
   "cell_type": "code",
   "execution_count": 18,
   "metadata": {},
   "outputs": [],
   "source": [
    "train_dc[\"rock_classes\"] = train_dc[\"rock_label\"].apply(lambda x: x.split(','))"
   ]
  },
  {
   "cell_type": "code",
   "execution_count": 19,
   "metadata": {},
   "outputs": [
    {
     "data": {
      "text/plain": [
       "0                                [песчаник]\n",
       "1    [песчаник, алевролит, переслой, глина]\n",
       "2                               [алевролит]\n",
       "3                     [аргиллит, алевролит]\n",
       "4                [кремнистая порода, глина]\n",
       "Name: rock_classes, dtype: object"
      ]
     },
     "execution_count": 19,
     "metadata": {},
     "output_type": "execute_result"
    }
   ],
   "source": [
    "train_dc[\"rock_classes\"].head()"
   ]
  },
  {
   "cell_type": "code",
   "execution_count": 44,
   "metadata": {},
   "outputs": [
    {
     "data": {
      "text/plain": [
       "не опред.                   1525\n",
       "нефтенасыщенные              223\n",
       "битуминозный                 106\n",
       "пятнисто нефтенасыщенные     100\n",
       "продукт                      100\n",
       "слабо нефтенасыщенные         35\n",
       "Name: Saturation, dtype: int64"
      ]
     },
     "execution_count": 44,
     "metadata": {},
     "output_type": "execute_result"
    }
   ],
   "source": [
    "train_uf[\"Saturation\"].value_counts()\n"
   ]
  },
  {
   "cell_type": "code",
   "execution_count": 26,
   "metadata": {},
   "outputs": [],
   "source": [
    "from sklearn.preprocessing import MultiLabelBinarizer\n",
    "mlb = MultiLabelBinarizer()\n",
    "temp = mlb.fit_transform(train_dc[\"rock_classes\"])\n"
   ]
  },
  {
   "cell_type": "code",
   "execution_count": 29,
   "metadata": {},
   "outputs": [],
   "source": [
    "import numpy as np"
   ]
  },
  {
   "cell_type": "code",
   "execution_count": 44,
   "metadata": {},
   "outputs": [
    {
     "data": {
      "text/plain": [
       "array([314, 195, 172,  18,  12,  63, 134, 573])"
      ]
     },
     "execution_count": 44,
     "metadata": {},
     "output_type": "execute_result"
    }
   ],
   "source": [
    "np.sum(temp, axis = 0)"
   ]
  },
  {
   "cell_type": "code",
   "execution_count": 45,
   "metadata": {},
   "outputs": [],
   "source": [
    "temp = pd.DataFrame(temp, columns = mlb.classes_)"
   ]
  },
  {
   "cell_type": "code",
   "execution_count": 28,
   "metadata": {},
   "outputs": [],
   "source": [
    "temp = pd.read_csv('../data/train_classes.csv')"
   ]
  },
  {
   "cell_type": "code",
   "execution_count": 29,
   "metadata": {},
   "outputs": [
    {
     "data": {
      "text/html": [
       "<div>\n",
       "<style scoped>\n",
       "    .dataframe tbody tr th:only-of-type {\n",
       "        vertical-align: middle;\n",
       "    }\n",
       "\n",
       "    .dataframe tbody tr th {\n",
       "        vertical-align: top;\n",
       "    }\n",
       "\n",
       "    .dataframe thead th {\n",
       "        text-align: right;\n",
       "    }\n",
       "</style>\n",
       "<table border=\"1\" class=\"dataframe\">\n",
       "  <thead>\n",
       "    <tr style=\"text-align: right;\">\n",
       "      <th></th>\n",
       "      <th>алевролит</th>\n",
       "      <th>аргиллит</th>\n",
       "      <th>глина</th>\n",
       "      <th>другое</th>\n",
       "      <th>карбонатная порода</th>\n",
       "      <th>кремнистая порода</th>\n",
       "      <th>переслой</th>\n",
       "      <th>песчаник</th>\n",
       "    </tr>\n",
       "  </thead>\n",
       "  <tbody>\n",
       "    <tr>\n",
       "      <th>0</th>\n",
       "      <td>0</td>\n",
       "      <td>0</td>\n",
       "      <td>0</td>\n",
       "      <td>0</td>\n",
       "      <td>0</td>\n",
       "      <td>0</td>\n",
       "      <td>0</td>\n",
       "      <td>1</td>\n",
       "    </tr>\n",
       "    <tr>\n",
       "      <th>1</th>\n",
       "      <td>1</td>\n",
       "      <td>0</td>\n",
       "      <td>1</td>\n",
       "      <td>0</td>\n",
       "      <td>0</td>\n",
       "      <td>0</td>\n",
       "      <td>1</td>\n",
       "      <td>1</td>\n",
       "    </tr>\n",
       "    <tr>\n",
       "      <th>2</th>\n",
       "      <td>1</td>\n",
       "      <td>0</td>\n",
       "      <td>0</td>\n",
       "      <td>0</td>\n",
       "      <td>0</td>\n",
       "      <td>0</td>\n",
       "      <td>0</td>\n",
       "      <td>0</td>\n",
       "    </tr>\n",
       "    <tr>\n",
       "      <th>3</th>\n",
       "      <td>1</td>\n",
       "      <td>1</td>\n",
       "      <td>0</td>\n",
       "      <td>0</td>\n",
       "      <td>0</td>\n",
       "      <td>0</td>\n",
       "      <td>0</td>\n",
       "      <td>0</td>\n",
       "    </tr>\n",
       "    <tr>\n",
       "      <th>4</th>\n",
       "      <td>0</td>\n",
       "      <td>0</td>\n",
       "      <td>1</td>\n",
       "      <td>0</td>\n",
       "      <td>0</td>\n",
       "      <td>1</td>\n",
       "      <td>0</td>\n",
       "      <td>0</td>\n",
       "    </tr>\n",
       "  </tbody>\n",
       "</table>\n",
       "</div>"
      ],
      "text/plain": [
       "   алевролит  аргиллит  глина  другое  карбонатная порода  кремнистая порода  \\\n",
       "0          0         0      0       0                   0                  0   \n",
       "1          1         0      1       0                   0                  0   \n",
       "2          1         0      0       0                   0                  0   \n",
       "3          1         1      0       0                   0                  0   \n",
       "4          0         0      1       0                   0                  1   \n",
       "\n",
       "   переслой  песчаник  \n",
       "0         0         1  \n",
       "1         1         1  \n",
       "2         0         0  \n",
       "3         0         0  \n",
       "4         0         0  "
      ]
     },
     "execution_count": 29,
     "metadata": {},
     "output_type": "execute_result"
    }
   ],
   "source": [
    "temp.head()"
   ]
  },
  {
   "cell_type": "code",
   "execution_count": 47,
   "metadata": {},
   "outputs": [],
   "source": [
    "temp.to_csv('../data/test_classes.csv', index=False)"
   ]
  },
  {
   "cell_type": "code",
   "execution_count": 43,
   "metadata": {},
   "outputs": [],
   "source": [
    "temp = mlb.transform(test_dc[\"rock_classes\"])\n"
   ]
  },
  {
   "cell_type": "code",
   "execution_count": 25,
   "metadata": {},
   "outputs": [
    {
     "data": {
      "text/plain": [
       "array(['алевролит', 'аргиллит', 'глина', 'другое', 'карбонатная порода',\n",
       "       'кремнистая порода', 'переслой', 'песчаник'], dtype=object)"
      ]
     },
     "execution_count": 25,
     "metadata": {},
     "output_type": "execute_result"
    }
   ],
   "source": [
    "mlb.classes_\n"
   ]
  },
  {
   "cell_type": "code",
   "execution_count": 15,
   "metadata": {},
   "outputs": [
    {
     "data": {
      "text/plain": [
       "tensor([0, 0, 0, 0, 0, 0, 0, 1], device='cuda:0')"
      ]
     },
     "execution_count": 15,
     "metadata": {},
     "output_type": "execute_result"
    }
   ],
   "source": [
    "import torch\n"
   ]
  },
  {
   "cell_type": "code",
   "execution_count": 16,
   "metadata": {},
   "outputs": [
    {
     "data": {
      "text/plain": [
       "torch.Size([8])"
      ]
     },
     "execution_count": 16,
     "metadata": {},
     "output_type": "execute_result"
    }
   ],
   "source": [
    "torch.as_tensor(temp.loc[0, ], dtype = int).size()"
   ]
  },
  {
   "cell_type": "code",
   "execution_count": 22,
   "metadata": {},
   "outputs": [],
   "source": [
    "labels = []\n",
    "for i in range(4):\n",
    "    labels.append(torch.Tensor(temp.loc[i, ]))"
   ]
  },
  {
   "cell_type": "code",
   "execution_count": 26,
   "metadata": {},
   "outputs": [
    {
     "data": {
      "text/plain": [
       "[tensor([0., 0., 0., 0., 0., 0., 0., 1.]),\n",
       " tensor([1., 0., 1., 0., 0., 0., 1., 1.]),\n",
       " tensor([1., 0., 0., 0., 0., 0., 0., 0.]),\n",
       " tensor([1., 1., 0., 0., 0., 0., 0., 0.])]"
      ]
     },
     "execution_count": 26,
     "metadata": {},
     "output_type": "execute_result"
    }
   ],
   "source": [
    "[i for i in labels]"
   ]
  },
  {
   "cell_type": "code",
   "execution_count": 24,
   "metadata": {},
   "outputs": [
    {
     "data": {
      "text/plain": [
       "tensor([[0., 0., 0., 0., 0., 0., 0., 1.],\n",
       "        [1., 0., 1., 0., 0., 0., 1., 1.],\n",
       "        [1., 0., 0., 0., 0., 0., 0., 0.],\n",
       "        [1., 1., 0., 0., 0., 0., 0., 0.]])"
      ]
     },
     "execution_count": 24,
     "metadata": {},
     "output_type": "execute_result"
    }
   ],
   "source": [
    "torch.stack(labels, dim=0)"
   ]
  },
  {
   "cell_type": "code",
   "execution_count": 36,
   "metadata": {},
   "outputs": [
    {
     "data": {
      "text/plain": [
       "Index(['алевролит', 'аргиллит', 'глина', 'другое', 'карбонатная порода',\n",
       "       'кремнистая порода', 'переслой', 'песчаник'],\n",
       "      dtype='object')"
      ]
     },
     "execution_count": 36,
     "metadata": {},
     "output_type": "execute_result"
    }
   ],
   "source": [
    "temp.sum().index"
   ]
  },
  {
   "cell_type": "code",
   "execution_count": 37,
   "metadata": {},
   "outputs": [],
   "source": [
    "weight_dict = {}\n",
    "for i,j in temp.sum().items():\n",
    "    weight_dict[i]=j"
   ]
  },
  {
   "cell_type": "code",
   "execution_count": 38,
   "metadata": {},
   "outputs": [
    {
     "data": {
      "text/plain": [
       "{'алевролит': 671,\n",
       " 'аргиллит': 470,\n",
       " 'глина': 326,\n",
       " 'другое': 33,\n",
       " 'карбонатная порода': 22,\n",
       " 'кремнистая порода': 116,\n",
       " 'переслой': 288,\n",
       " 'песчаник': 1090}"
      ]
     },
     "execution_count": 38,
     "metadata": {},
     "output_type": "execute_result"
    }
   ],
   "source": [
    "weight_dict"
   ]
  },
  {
   "cell_type": "code",
   "execution_count": 5,
   "metadata": {},
   "outputs": [],
   "source": [
    "temp = pd.read_csv('../data/train_classes.csv')"
   ]
  },
  {
   "cell_type": "code",
   "execution_count": 6,
   "metadata": {},
   "outputs": [
    {
     "data": {
      "text/html": [
       "<div>\n",
       "<style scoped>\n",
       "    .dataframe tbody tr th:only-of-type {\n",
       "        vertical-align: middle;\n",
       "    }\n",
       "\n",
       "    .dataframe tbody tr th {\n",
       "        vertical-align: top;\n",
       "    }\n",
       "\n",
       "    .dataframe thead th {\n",
       "        text-align: right;\n",
       "    }\n",
       "</style>\n",
       "<table border=\"1\" class=\"dataframe\">\n",
       "  <thead>\n",
       "    <tr style=\"text-align: right;\">\n",
       "      <th></th>\n",
       "      <th>алевролит</th>\n",
       "      <th>аргиллит</th>\n",
       "      <th>глина</th>\n",
       "      <th>другое</th>\n",
       "      <th>карбонатная порода</th>\n",
       "      <th>кремнистая порода</th>\n",
       "      <th>переслой</th>\n",
       "      <th>песчаник</th>\n",
       "    </tr>\n",
       "  </thead>\n",
       "  <tbody>\n",
       "    <tr>\n",
       "      <th>0</th>\n",
       "      <td>0</td>\n",
       "      <td>0</td>\n",
       "      <td>0</td>\n",
       "      <td>0</td>\n",
       "      <td>0</td>\n",
       "      <td>0</td>\n",
       "      <td>0</td>\n",
       "      <td>1</td>\n",
       "    </tr>\n",
       "    <tr>\n",
       "      <th>1</th>\n",
       "      <td>1</td>\n",
       "      <td>0</td>\n",
       "      <td>1</td>\n",
       "      <td>0</td>\n",
       "      <td>0</td>\n",
       "      <td>0</td>\n",
       "      <td>1</td>\n",
       "      <td>1</td>\n",
       "    </tr>\n",
       "    <tr>\n",
       "      <th>2</th>\n",
       "      <td>1</td>\n",
       "      <td>0</td>\n",
       "      <td>0</td>\n",
       "      <td>0</td>\n",
       "      <td>0</td>\n",
       "      <td>0</td>\n",
       "      <td>0</td>\n",
       "      <td>0</td>\n",
       "    </tr>\n",
       "    <tr>\n",
       "      <th>3</th>\n",
       "      <td>1</td>\n",
       "      <td>1</td>\n",
       "      <td>0</td>\n",
       "      <td>0</td>\n",
       "      <td>0</td>\n",
       "      <td>0</td>\n",
       "      <td>0</td>\n",
       "      <td>0</td>\n",
       "    </tr>\n",
       "    <tr>\n",
       "      <th>4</th>\n",
       "      <td>0</td>\n",
       "      <td>0</td>\n",
       "      <td>1</td>\n",
       "      <td>0</td>\n",
       "      <td>0</td>\n",
       "      <td>1</td>\n",
       "      <td>0</td>\n",
       "      <td>0</td>\n",
       "    </tr>\n",
       "  </tbody>\n",
       "</table>\n",
       "</div>"
      ],
      "text/plain": [
       "   алевролит  аргиллит  глина  другое  карбонатная порода  кремнистая порода  \\\n",
       "0          0         0      0       0                   0                  0   \n",
       "1          1         0      1       0                   0                  0   \n",
       "2          1         0      0       0                   0                  0   \n",
       "3          1         1      0       0                   0                  0   \n",
       "4          0         0      1       0                   0                  1   \n",
       "\n",
       "   переслой  песчаник  \n",
       "0         0         1  \n",
       "1         1         1  \n",
       "2         0         0  \n",
       "3         0         0  \n",
       "4         0         0  "
      ]
     },
     "execution_count": 6,
     "metadata": {},
     "output_type": "execute_result"
    }
   ],
   "source": [
    "temp.head()"
   ]
  },
  {
   "cell_type": "code",
   "execution_count": 8,
   "metadata": {},
   "outputs": [
    {
     "ename": "IndexError",
     "evalue": ".iloc requires numeric indexers, got ['аргиллит' 'алевролит' 'песчаник']",
     "output_type": "error",
     "traceback": [
      "\u001b[0;31m---------------------------------------------------------------------------\u001b[0m",
      "\u001b[0;31mIndexError\u001b[0m                                Traceback (most recent call last)",
      "\u001b[0;32m<ipython-input-8-006abecae3e0>\u001b[0m in \u001b[0;36m<module>\u001b[0;34m\u001b[0m\n\u001b[0;32m----> 1\u001b[0;31m \u001b[0mtemp\u001b[0m\u001b[0;34m.\u001b[0m\u001b[0miloc\u001b[0m\u001b[0;34m[\u001b[0m\u001b[0;36m0\u001b[0m\u001b[0;34m,\u001b[0m \u001b[0;34m[\u001b[0m\u001b[0;34m\"аргиллит\"\u001b[0m\u001b[0;34m,\u001b[0m\u001b[0;34m\"алевролит\"\u001b[0m\u001b[0;34m,\u001b[0m\u001b[0;34m\"песчаник\"\u001b[0m\u001b[0;34m]\u001b[0m\u001b[0;34m]\u001b[0m\u001b[0;34m\u001b[0m\u001b[0;34m\u001b[0m\u001b[0m\n\u001b[0m",
      "\u001b[0;32m/usr/local/lib/python3.6/dist-packages/pandas/core/indexing.py\u001b[0m in \u001b[0;36m__getitem__\u001b[0;34m(self, key)\u001b[0m\n\u001b[1;32m   1416\u001b[0m                 \u001b[0;32mexcept\u001b[0m \u001b[0;34m(\u001b[0m\u001b[0mKeyError\u001b[0m\u001b[0;34m,\u001b[0m \u001b[0mIndexError\u001b[0m\u001b[0;34m,\u001b[0m \u001b[0mAttributeError\u001b[0m\u001b[0;34m)\u001b[0m\u001b[0;34m:\u001b[0m\u001b[0;34m\u001b[0m\u001b[0;34m\u001b[0m\u001b[0m\n\u001b[1;32m   1417\u001b[0m                     \u001b[0;32mpass\u001b[0m\u001b[0;34m\u001b[0m\u001b[0;34m\u001b[0m\u001b[0m\n\u001b[0;32m-> 1418\u001b[0;31m             \u001b[0;32mreturn\u001b[0m \u001b[0mself\u001b[0m\u001b[0;34m.\u001b[0m\u001b[0m_getitem_tuple\u001b[0m\u001b[0;34m(\u001b[0m\u001b[0mkey\u001b[0m\u001b[0;34m)\u001b[0m\u001b[0;34m\u001b[0m\u001b[0;34m\u001b[0m\u001b[0m\n\u001b[0m\u001b[1;32m   1419\u001b[0m         \u001b[0;32melse\u001b[0m\u001b[0;34m:\u001b[0m\u001b[0;34m\u001b[0m\u001b[0;34m\u001b[0m\u001b[0m\n\u001b[1;32m   1420\u001b[0m             \u001b[0;31m# we by definition only have the 0th axis\u001b[0m\u001b[0;34m\u001b[0m\u001b[0;34m\u001b[0m\u001b[0;34m\u001b[0m\u001b[0m\n",
      "\u001b[0;32m/usr/local/lib/python3.6/dist-packages/pandas/core/indexing.py\u001b[0m in \u001b[0;36m_getitem_tuple\u001b[0;34m(self, tup)\u001b[0m\n\u001b[1;32m   2090\u001b[0m     \u001b[0;32mdef\u001b[0m \u001b[0m_getitem_tuple\u001b[0m\u001b[0;34m(\u001b[0m\u001b[0mself\u001b[0m\u001b[0;34m,\u001b[0m \u001b[0mtup\u001b[0m\u001b[0;34m)\u001b[0m\u001b[0;34m:\u001b[0m\u001b[0;34m\u001b[0m\u001b[0;34m\u001b[0m\u001b[0m\n\u001b[1;32m   2091\u001b[0m \u001b[0;34m\u001b[0m\u001b[0m\n\u001b[0;32m-> 2092\u001b[0;31m         \u001b[0mself\u001b[0m\u001b[0;34m.\u001b[0m\u001b[0m_has_valid_tuple\u001b[0m\u001b[0;34m(\u001b[0m\u001b[0mtup\u001b[0m\u001b[0;34m)\u001b[0m\u001b[0;34m\u001b[0m\u001b[0;34m\u001b[0m\u001b[0m\n\u001b[0m\u001b[1;32m   2093\u001b[0m         \u001b[0;32mtry\u001b[0m\u001b[0;34m:\u001b[0m\u001b[0;34m\u001b[0m\u001b[0;34m\u001b[0m\u001b[0m\n\u001b[1;32m   2094\u001b[0m             \u001b[0;32mreturn\u001b[0m \u001b[0mself\u001b[0m\u001b[0;34m.\u001b[0m\u001b[0m_getitem_lowerdim\u001b[0m\u001b[0;34m(\u001b[0m\u001b[0mtup\u001b[0m\u001b[0;34m)\u001b[0m\u001b[0;34m\u001b[0m\u001b[0;34m\u001b[0m\u001b[0m\n",
      "\u001b[0;32m/usr/local/lib/python3.6/dist-packages/pandas/core/indexing.py\u001b[0m in \u001b[0;36m_has_valid_tuple\u001b[0;34m(self, key)\u001b[0m\n\u001b[1;32m    233\u001b[0m                 \u001b[0;32mraise\u001b[0m \u001b[0mIndexingError\u001b[0m\u001b[0;34m(\u001b[0m\u001b[0;34m\"Too many indexers\"\u001b[0m\u001b[0;34m)\u001b[0m\u001b[0;34m\u001b[0m\u001b[0;34m\u001b[0m\u001b[0m\n\u001b[1;32m    234\u001b[0m             \u001b[0;32mtry\u001b[0m\u001b[0;34m:\u001b[0m\u001b[0;34m\u001b[0m\u001b[0;34m\u001b[0m\u001b[0m\n\u001b[0;32m--> 235\u001b[0;31m                 \u001b[0mself\u001b[0m\u001b[0;34m.\u001b[0m\u001b[0m_validate_key\u001b[0m\u001b[0;34m(\u001b[0m\u001b[0mk\u001b[0m\u001b[0;34m,\u001b[0m \u001b[0mi\u001b[0m\u001b[0;34m)\u001b[0m\u001b[0;34m\u001b[0m\u001b[0;34m\u001b[0m\u001b[0m\n\u001b[0m\u001b[1;32m    236\u001b[0m             \u001b[0;32mexcept\u001b[0m \u001b[0mValueError\u001b[0m\u001b[0;34m:\u001b[0m\u001b[0;34m\u001b[0m\u001b[0;34m\u001b[0m\u001b[0m\n\u001b[1;32m    237\u001b[0m                 raise ValueError(\n",
      "\u001b[0;32m/usr/local/lib/python3.6/dist-packages/pandas/core/indexing.py\u001b[0m in \u001b[0;36m_validate_key\u001b[0;34m(self, key, axis)\u001b[0m\n\u001b[1;32m   2024\u001b[0m             \u001b[0;32mif\u001b[0m \u001b[0;32mnot\u001b[0m \u001b[0mis_numeric_dtype\u001b[0m\u001b[0;34m(\u001b[0m\u001b[0marr\u001b[0m\u001b[0;34m.\u001b[0m\u001b[0mdtype\u001b[0m\u001b[0;34m)\u001b[0m\u001b[0;34m:\u001b[0m\u001b[0;34m\u001b[0m\u001b[0;34m\u001b[0m\u001b[0m\n\u001b[1;32m   2025\u001b[0m                 raise IndexError(\n\u001b[0;32m-> 2026\u001b[0;31m                     \u001b[0;34m\".iloc requires numeric indexers, got {arr}\"\u001b[0m\u001b[0;34m.\u001b[0m\u001b[0mformat\u001b[0m\u001b[0;34m(\u001b[0m\u001b[0marr\u001b[0m\u001b[0;34m=\u001b[0m\u001b[0marr\u001b[0m\u001b[0;34m)\u001b[0m\u001b[0;34m\u001b[0m\u001b[0;34m\u001b[0m\u001b[0m\n\u001b[0m\u001b[1;32m   2027\u001b[0m                 )\n\u001b[1;32m   2028\u001b[0m \u001b[0;34m\u001b[0m\u001b[0m\n",
      "\u001b[0;31mIndexError\u001b[0m: .iloc requires numeric indexers, got ['аргиллит' 'алевролит' 'песчаник']"
     ]
    }
   ],
   "source": [
    "temp.iloc[0, [\"аргиллит\",\"алевролит\",\"песчаник\"]]"
   ]
  },
  {
   "cell_type": "code",
   "execution_count": 9,
   "metadata": {},
   "outputs": [
    {
     "data": {
      "text/plain": [
       "аргиллит     0\n",
       "алевролит    0\n",
       "песчаник     1\n",
       "Name: 0, dtype: int64"
      ]
     },
     "execution_count": 9,
     "metadata": {},
     "output_type": "execute_result"
    }
   ],
   "source": [
    "temp.loc[0, [\"аргиллит\",\"алевролит\",\"песчаник\"]]"
   ]
  },
  {
   "cell_type": "code",
   "execution_count": 10,
   "metadata": {},
   "outputs": [
    {
     "data": {
      "text/plain": [
       "2089"
      ]
     },
     "execution_count": 10,
     "metadata": {},
     "output_type": "execute_result"
    }
   ],
   "source": [
    "len(train_dc)"
   ]
  },
  {
   "cell_type": "code",
   "execution_count": 11,
   "metadata": {},
   "outputs": [
    {
     "data": {
      "text/plain": [
       "1030"
      ]
     },
     "execution_count": 11,
     "metadata": {},
     "output_type": "execute_result"
    }
   ],
   "source": [
    "len(test_dc)"
   ]
  }
 ],
 "metadata": {
  "kernelspec": {
   "display_name": "Python 3",
   "language": "python",
   "name": "python3"
  },
  "language_info": {
   "codemirror_mode": {
    "name": "ipython",
    "version": 3
   },
   "file_extension": ".py",
   "mimetype": "text/x-python",
   "name": "python",
   "nbconvert_exporter": "python",
   "pygments_lexer": "ipython3",
   "version": "3.6.8"
  }
 },
 "nbformat": 4,
 "nbformat_minor": 2
}
